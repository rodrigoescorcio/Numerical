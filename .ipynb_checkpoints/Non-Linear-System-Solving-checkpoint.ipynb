{
 "cells": [
  {
   "cell_type": "markdown",
   "metadata": {},
   "source": [
    "# Non-Linear System Solving\n",
    "\n",
    "Just like many problems need a linear system to be solved, there are some problems that require a non-linear system to be solved."
   ]
  },
  {
   "cell_type": "markdown",
   "metadata": {},
   "source": [
    "Let's import some modules to handle numerical data and ploting."
   ]
  },
  {
   "cell_type": "code",
   "execution_count": 2,
   "metadata": {},
   "outputs": [],
   "source": [
    "import numpy as np\n",
    "import matplotlib.pyplot as plt"
   ]
  },
  {
   "cell_type": "markdown",
   "metadata": {},
   "source": [
    "## Non-linear system\n",
    "\n",
    "We aim to solve a problem that can be written as:\n",
    "\n",
    "$$\n",
    "\\begin{cases}\n",
    "    f_1(x_1, x_2,..., x_n) = 0 \\\\\n",
    "    f_2(x_1, x_2,..., x_n) = 0 \\\\\n",
    "    ... \\\\\n",
    "    ... \\\\\n",
    "    ... \\\\\n",
    "    f_n(x_1, x_2,..., x_n) = 0\n",
    "\\end{cases}\n",
    "$$\n",
    "\n",
    "What this means is: we have a non-linear function $F:\\mathbb{R}^n \\rightarrow \\mathbb{R}^n,\\, F=(f_1,f_2,...,f_n)^T$, and we want to find solutions for:\n",
    "$$\n",
    "F(\\textbf{x}) = 0\n",
    "$$\n",
    "Let's write from now that:\n",
    "$$\n",
    "\\textbf{x} = \n",
    "\\begin{bmatrix}\n",
    "    x_1 \\\\\n",
    "    x_2 \\\\\n",
    "    ... \\\\\n",
    "    ... \\\\\n",
    "    ... \\\\\n",
    "    x_n \\\\\n",
    "\\end{bmatrix}\n",
    "\\textrm{ and }\n",
    "F(\\textbf{x})=\n",
    "\\begin{bmatrix}\n",
    "    f_1(\\textbf{x}) \\\\\n",
    "    f_2(\\textbf{x}) \\\\\n",
    "    ... \\\\\n",
    "    ... \\\\\n",
    "    ... \\\\\n",
    "    f_n(\\textbf{x}) \\\\\n",
    "\\end{bmatrix}\n",
    "$$\n",
    "\n",
    "The Jacobian Matrix is a matrix made of the partial derivatives of $F(\\textbf{x})$, that is:\n",
    "\n",
    "$$\n",
    "J(\\textbf{x}) = \\begin{bmatrix}\n",
    "    \\frac{\\partial f_1(\\textbf{x})}{\\partial x_1} & \\frac{\\partial f_1(\\textbf{x})}{\\partial x_2} & ... & \\frac{\\partial f_1(\\textbf{x})}{\\partial x_n} \\\\\n",
    "    \\frac{\\partial f_2(\\textbf{x})}{\\partial x_1} & \\frac{\\partial f_2(\\textbf{x})}{\\partial x_2} & ... & \\frac{\\partial f_2(\\textbf{x})}{\\partial x_n} \\\\\n",
    "    ... & & & ... \\\\\n",
    "    ... & & & ... \\\\\n",
    "    ... & & & ... \\\\\n",
    "    \\frac{\\partial f_n(\\textbf{x})}{\\partial x_1} & \\frac{\\partial f_n(\\textbf{x})}{\\partial x_2} & ... & \\frac{\\partial f_n(\\textbf{x})}{\\partial x_n} \\\\\n",
    "\\end{bmatrix}\n",
    "$$\n",
    "\n",
    "For example, if we have the system below:\n",
    "\n",
    "$$\n",
    "F(\\textbf{x}) = \n",
    "\\begin{cases}\n",
    "    x_1^3-3x_1x_2^2+1=0 \\\\\n",
    "    3x_1^2x_2-x2^3=0\n",
    "\\end{cases}\n",
    "$$\n",
    "\n",
    "the Jacobian matrix will be:\n",
    "\n",
    "$$\n",
    "J(\\textbf{x}) = \n",
    "\\begin{bmatrix}\n",
    "    3x_1^2-3x_2^2 & -6x_1x_2 \\\\\n",
    "    6x_1x_2 & -3x_2^2\n",
    "\\end{bmatrix}\n",
    "$$"
   ]
  },
  {
   "cell_type": "markdown",
   "metadata": {},
   "source": [
    "### Newton Method"
   ]
  },
  {
   "cell_type": "markdown",
   "metadata": {},
   "source": [
    "The known Newton Method to find a zero of a function can be extended and used for a non-linear system as well. As we need a way to evaluate how good the approximation is, let's define the *infinity norm* for vector, given by:\n",
    "$$\n",
    "||\\, \\textbf{v}\\, || = max_{\\, 1\\leq i\\leq n}\\, |\\, v_i\\, |\n",
    "$$\n",
    "where $\\textbf{v} = (v_1, v_2, ..., v_n)^T$."
   ]
  },
  {
   "cell_type": "markdown",
   "metadata": {},
   "source": [
    "**Algorithm**"
   ]
  },
  {
   "cell_type": "markdown",
   "metadata": {},
   "source": [
    "The algorithm consists of an initial guess $\\textbf{x}^{(0)}$ and tolerances $\\epsilon_1$ and $\\epsilon_2$:\n",
    "* Evaluate $F(\\textbf{x}^{(k)})$ and $J(\\textbf{x}^{(k)})$.\n",
    "* If $||\\, F(\\textbf{x}^{(k)})\\, || < \\epsilon_1$, make the solution $\\textbf{x}^* = \\textbf{x}^{(k)}$ and stop.\n",
    "* Find $s^{(k)}$, the solution for the linear system $J(\\textbf{x}^{(k)})\\, s = -F(\\textbf{x}^{(k)})$.\n",
    "* Do $\\textbf{x}^{(k+1)} = \\textbf{x}^{(k)} + s^{(k)}$.\n",
    "* If $||\\, \\textbf{x}^{(k+1)}-\\textbf{x}^{(k)}\\, || < \\epsilon_2$, make the solution $\\textbf{x}^* = \\textbf{x}^{(k+1)}$ and stop.\n",
    "* Let $k=k+1$ and return to the beginning."
   ]
  },
  {
   "cell_type": "markdown",
   "metadata": {},
   "source": [
    "The function *newton* takes five arguments:\n",
    "* *F* is a matrix denoting $F(\\textbf{x})$.\n",
    "* *J* is a matrix denoting the Jacobian Matrix of $F(\\textbf{x})$.\n",
    "* *e1* and *e2* represent the tolerances $\\epsilon_1$ and $\\epsilon_2$.\n",
    "* *x0* is the initial guess $x^{(0)}$.\n",
    "\n",
    "The function returns the value of a solution."
   ]
  },
  {
   "cell_type": "code",
   "execution_count": 14,
   "metadata": {},
   "outputs": [],
   "source": [
    "def F(x):\n",
    "    return np.array([x[0]+x[1]-3, x[0]*x[0]+x[1]*x[1]-9])\n",
    "\n",
    "def J(x):\n",
    "    return np.array([\n",
    "                    [1,1],\n",
    "                    [2*x[0], 2*x[1]]\n",
    "    ])\n",
    "\n",
    "def newton(F, J, e1, e2, x0):\n",
    "    x = x0\n",
    "    if abs(np.max(F(x))) < e1:\n",
    "        return x0\n",
    "    s = np.linalg.solve(J(x),-F(x))\n",
    "    xk = x + s\n",
    "    \n",
    "    while abs(np.max(F(x))) >= e1 and abs(np.max(xk-x)) >= e2:\n",
    "        x = xk\n",
    "        s = np.linalg.solve(J(x),-F(x))\n",
    "        xk = x + s\n",
    "    \n",
    "    return xk"
   ]
  },
  {
   "cell_type": "code",
   "execution_count": 18,
   "metadata": {},
   "outputs": [
    {
     "data": {
      "text/plain": [
       "array([-1.82953187e-12,  3.00000000e+00])"
      ]
     },
     "execution_count": 18,
     "metadata": {},
     "output_type": "execute_result"
    }
   ],
   "source": [
    "newton(F, J, 0.0001, 0.0001, [1,5])"
   ]
  }
 ],
 "metadata": {
  "kernelspec": {
   "display_name": "Python 2",
   "language": "python",
   "name": "python2"
  },
  "language_info": {
   "codemirror_mode": {
    "name": "ipython",
    "version": 2
   },
   "file_extension": ".py",
   "mimetype": "text/x-python",
   "name": "python",
   "nbconvert_exporter": "python",
   "pygments_lexer": "ipython2",
   "version": "2.7.12"
  }
 },
 "nbformat": 4,
 "nbformat_minor": 2
}
