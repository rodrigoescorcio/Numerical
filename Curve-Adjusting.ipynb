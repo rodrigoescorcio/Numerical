{
 "cells": [
  {
   "cell_type": "markdown",
   "metadata": {},
   "source": [
    "# Curve Adjusting\n",
    "\n",
    "Sometimes we need to get a good approximation to data points without interpolation, because then we can extrapolate in a safety range. In this case, we use curve adjusting, a technique that aims to choose a function that has minimun distance to the data points. "
   ]
  },
  {
   "cell_type": "markdown",
   "metadata": {},
   "source": [
    "Let's import some modules to handle numerical data and ploting."
   ]
  },
  {
   "cell_type": "code",
   "execution_count": 1,
   "metadata": {},
   "outputs": [],
   "source": [
    "import numpy as np\n",
    "import matplotlib.pyplot as plt"
   ]
  },
  {
   "cell_type": "markdown",
   "metadata": {},
   "source": [
    "## Least Square Method"
   ]
  },
  {
   "cell_type": "markdown",
   "metadata": {},
   "source": [
    "Let's assume that distance means the square distance between the point and the function. So, we want the *Least Square Distance*. In math terms, consider $(x_1,y_1),(x_2,y_2),...,(x_m,y_m)$ as data points we want to approximate by $n$ functions $g_1(x), g_2(x),...,g_n(x)$. We need to find coefficients $\\alpha_1, \\alpha_2,...,\\alpha_n$ such that the function $\\phi(x)=\\alpha_1 g_1(x) + \\alpha_2 g_2(x) + ... + \\alpha_n g_n(x)$ has mininum distance to data points, that is:\n",
    "$$\n",
    "d = \\sum_{k=1}^{m}(f(x_k)-\\phi(x_k))^2\n",
    "$$\n",
    "is minimum. This is called linear adjusting by least square distance. Notice that if the model adjust exactly the data points, we have an interpolation. Therefore, interpolation is a special case of curve adjusting."
   ]
  },
  {
   "cell_type": "markdown",
   "metadata": {},
   "source": [
    "### Definition"
   ]
  },
  {
   "cell_type": "markdown",
   "metadata": {},
   "source": [
    "The function *discreteLeastSquares* takes three arguments:\n",
    "* *g* is a list of functions we want to use to adjust the data points\n",
    "* *x* and *y* are the data points\n",
    "\n",
    "The function returns the coefficients $\\alpha_i$."
   ]
  },
  {
   "cell_type": "code",
   "execution_count": 2,
   "metadata": {},
   "outputs": [],
   "source": [
    "def discreteLeastSquares(g, x, y):\n",
    "    n = len(g(0))\n",
    "    m = len(x)\n",
    "    A = np.zeros((n,n))\n",
    "    for i in range(n):\n",
    "        for j in range(n):\n",
    "            for k in range(m):\n",
    "                A[i,j] += g(x[k])[j]*g(x[k])[i]\n",
    "    b = np.zeros(n)\n",
    "    for i in range(n):\n",
    "        for k in range(m):\n",
    "            b[i] += y[k]*g(x[k])[i]\n",
    "    inv = np.linalg.inv(A)\n",
    "    result = np.matmul(inv,b)\n",
    "    return result    "
   ]
  },
  {
   "cell_type": "markdown",
   "metadata": {},
   "source": [
    "**Parameters**"
   ]
  },
  {
   "cell_type": "code",
   "execution_count": 3,
   "metadata": {},
   "outputs": [],
   "source": [
    "def g(x):\n",
    "    functions = []\n",
    "    functions.append(1)\n",
    "    functions.append(x)\n",
    "    functions.append(x*x)\n",
    "    return functions\n",
    "\n",
    "x = np.array([1,2,3,4,5])\n",
    "y = np.random.rand(5)"
   ]
  },
  {
   "cell_type": "markdown",
   "metadata": {},
   "source": [
    "**Ploting the results**"
   ]
  },
  {
   "cell_type": "code",
   "execution_count": 4,
   "metadata": {
    "scrolled": true
   },
   "outputs": [
    {
     "name": "stdout",
     "output_type": "stream",
     "text": [
      "The coefficients are:  [ 1.92239958 -1.26513501  0.21916162]\n"
     ]
    },
    {
     "data": {
      "image/png": "[encoded data removed]",
      "text/plain": [
       "<Figure size 582.48x360 with 1 Axes>"
      ]
     },
     "metadata": {},
     "output_type": "display_data"
    }
   ],
   "source": [
    "result = discreteLeastSquares(g, x, y)\n",
    "print \"The coefficients are: \", result\n",
    "\n",
    "plt.figure(figsize=(8.09,5))\n",
    "t = np.linspace(min(x),max(x),1000)\n",
    "def f(t):\n",
    "    f = 0\n",
    "    for i in range(len(g(0))):\n",
    "        f += result[i]*g(t)[i]\n",
    "    return f\n",
    "plt.plot(t, f(t), 'b--', label=\"Function Fit\")\n",
    "plt.plot(x, y,'r.', label=\"Data points\")\n",
    "plt.grid()\n",
    "plt.legend(shadow=True, fontsize=12, loc=0)\n",
    "\n",
    "plt.show()"
   ]
  },
  {
   "cell_type": "markdown",
   "metadata": {},
   "source": [
    "For more information on Least Squares Method, you can take a look [here](https://en.wikipedia.org/wiki/Least_squares).\n"
   ]
  }
 ],
 "metadata": {
  "kernelspec": {
   "display_name": "Python 2",
   "language": "python",
   "name": "python2"
  },
  "language_info": {
   "codemirror_mode": {
    "name": "ipython",
    "version": 2
   },
   "file_extension": ".py",
   "mimetype": "text/x-python",
   "name": "python",
   "nbconvert_exporter": "python",
   "pygments_lexer": "ipython2",
   "version": "2.7.12"
  }
 },
 "nbformat": 4,
 "nbformat_minor": 2
}
