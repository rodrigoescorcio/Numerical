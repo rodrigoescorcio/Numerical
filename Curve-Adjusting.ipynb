{
 "cells": [
  {
   "cell_type": "markdown",
   "metadata": {},
   "source": [
    "# Curve Adjusting\n",
    "\n",
    "The reason we use"
   ]
  },
  {
   "cell_type": "markdown",
   "metadata": {},
   "source": [
    "Let's import some modules to handle numerical data and ploting."
   ]
  },
  {
   "cell_type": "code",
   "execution_count": 1,
   "metadata": {},
   "outputs": [],
   "source": [
    "import numpy as np\n",
    "import matplotlib.pyplot as plt"
   ]
  },
  {
   "cell_type": "markdown",
   "metadata": {},
   "source": [
    "### Least Squares Method"
   ]
  },
  {
   "cell_type": "markdown",
   "metadata": {},
   "source": [
    "The Least Squares Method consists of:"
   ]
  },
  {
   "cell_type": "markdown",
   "metadata": {},
   "source": [
    "**Definition**"
   ]
  },
  {
   "cell_type": "code",
   "execution_count": 23,
   "metadata": {},
   "outputs": [],
   "source": [
    "def discreteLeastSquares(g, x, y):\n",
    "    n = len(g(0))\n",
    "    m = len(x)\n",
    "    A = np.zeros((n,n))\n",
    "    for i in range(n):\n",
    "        for j in range(n):\n",
    "            for k in range(m):\n",
    "                A[i,j] += g(x[k])[j]*g(x[k])[i]\n",
    "    b = np.zeros(n)\n",
    "    for i in range(n):\n",
    "        for k in range(m):\n",
    "            b[i] += y[k]*g(x[k])[i]\n",
    "    inv = np.linalg.inv(A)\n",
    "    result = np.matmul(inv,b)\n",
    "    return result    "
   ]
  },
  {
   "cell_type": "markdown",
   "metadata": {},
   "source": [
    "**Parameters**"
   ]
  },
  {
   "cell_type": "code",
   "execution_count": 29,
   "metadata": {},
   "outputs": [],
   "source": [
    "def g(x):\n",
    "    functions = []\n",
    "    functions.append(1)\n",
    "    functions.append(x)\n",
    "    functions.append(x*x)\n",
    "    return functions\n",
    "\n",
    "x = np.array([1,2,3,4,5])\n",
    "y = np.random.rand(5)"
   ]
  },
  {
   "cell_type": "markdown",
   "metadata": {},
   "source": [
    "**Ploting the results**"
   ]
  },
  {
   "cell_type": "code",
   "execution_count": 30,
   "metadata": {},
   "outputs": [
    {
     "name": "stdout",
     "output_type": "stream",
     "text": [
      "The coefficients are:  [ 0.68461812 -0.11830923  0.02476925]\n"
     ]
    },
    {
     "data": {
      "image/png": "[encoded data removed]",
      "text/plain": [
       "<Figure size 582.48x360 with 1 Axes>"
      ]
     },
     "metadata": {},
     "output_type": "display_data"
    }
   ],
   "source": [
    "result = discreteLeastSquares(g, x, y)\n",
    "print \"The coefficients are: \", result\n",
    "\n",
    "plt.figure(figsize=(8.09,5))\n",
    "t = np.linspace(min(x),max(x),1000)\n",
    "def f(t):\n",
    "    f = 0\n",
    "    for i in range(len(g(0))):\n",
    "        f += result[i]*g(t)[i]\n",
    "    return f\n",
    "plt.plot(t, f(t), 'b--', label=\"Function Fit\")\n",
    "plt.plot(x, y,'r.', label=\"Data points\")\n",
    "plt.grid()\n",
    "plt.legend(shadow=True, fontsize=12, loc=0)\n",
    "\n",
    "plt.show()"
   ]
  }
 ],
 "metadata": {
  "kernelspec": {
   "display_name": "Python 2",
   "language": "python",
   "name": "python2"
  },
  "language_info": {
   "codemirror_mode": {
    "name": "ipython",
    "version": 2
   },
   "file_extension": ".py",
   "mimetype": "text/x-python",
   "name": "python",
   "nbconvert_exporter": "python",
   "pygments_lexer": "ipython2",
   "version": "2.7.12"
  }
 },
 "nbformat": 4,
 "nbformat_minor": 2
}
