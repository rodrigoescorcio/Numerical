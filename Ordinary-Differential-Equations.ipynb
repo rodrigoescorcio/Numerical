{
 "cells": [
  {
   "cell_type": "markdown",
   "metadata": {},
   "source": [
    "# Ordinary Differential Equations\n",
    "\n",
    "The reason we use numerical methods for solving differential equations is because it is sometimes difficult to find solutions analytically. This is useful because plenty of problems in Science can be modeled using differential equations."
   ]
  },
  {
   "cell_type": "markdown",
   "metadata": {},
   "source": [
    "Let's import some modules to handle numerical data and ploting."
   ]
  },
  {
   "cell_type": "code",
   "execution_count": 1,
   "metadata": {},
   "outputs": [],
   "source": [
    "import numpy as np\n",
    "import matplotlib.pyplot as plt"
   ]
  },
  {
   "cell_type": "markdown",
   "metadata": {},
   "source": [
    "## Initial Value Problem\n",
    "\n",
    "First, we aim to solve an Initial Value Problem (IVP). That is:\n",
    "\n",
    "$$\n",
    "\\begin{cases}\n",
    "    \\dfrac{dy}{dx} = f(x,y) \\\\\n",
    "    y(x_0) = y_0\n",
    "\\end{cases}\n",
    "$$\n",
    "\n",
    "The idea is to construct $x_1, x_2,...,x_n$ equally spaced and calculate approximations to $y_i = y(x_i)$."
   ]
  },
  {
   "cell_type": "markdown",
   "metadata": {},
   "source": [
    "### Euler Method"
   ]
  },
  {
   "cell_type": "markdown",
   "metadata": {},
   "source": [
    "The Euler Method (a.k.a. 1st-order Runge-Kutta) consists of approximate the next point by a line $r(x)$ passing through the current point. That is:\n",
    "$$\n",
    "\\begin{equation}\n",
    "    \\begin{array}{c}\n",
    "        h = x_{k+1}-x_{k} \\\\\n",
    "        r(x) = y(x_k) + (x-x_k)y'(x_k)\\\\\n",
    "        y_{k+1} = y_k + hf(x_k,y_k)\n",
    "    \\end{array}\n",
    "\\end{equation}\n",
    "$$"
   ]
  },
  {
   "cell_type": "markdown",
   "metadata": {},
   "source": [
    "**Definition**"
   ]
  },
  {
   "cell_type": "markdown",
   "metadata": {},
   "source": [
    "The function *euler* takes five arguments:\n",
    "* *f* is the function such that $\\frac{dy}{dx} = f(x,y)$.\n",
    "* $t_0$ and $y_0$ represent the initial condition.\n",
    "* *h* is the step you want.\n",
    "* *N* is the number os points you want to approximate.\n",
    "\n",
    "The function returns the data points $x$ and $y$."
   ]
  },
  {
   "cell_type": "code",
   "execution_count": 2,
   "metadata": {},
   "outputs": [],
   "source": [
    "def euler(f, t0, y0, h, N):\n",
    "    x = t0 + np.arange(N+1)*h\n",
    "    y = np.zeros(N+1)\n",
    "    y[0] = y0\n",
    "    for n in range(N):\n",
    "        y[n+1] = y[n] + h*f(x[n], y[n])\n",
    "    return x,y"
   ]
  },
  {
   "cell_type": "markdown",
   "metadata": {},
   "source": [
    "**Parameters**"
   ]
  },
  {
   "cell_type": "code",
   "execution_count": 3,
   "metadata": {},
   "outputs": [],
   "source": [
    "def f(x,y):\n",
    "    return y\n",
    "\n",
    "t0 = 0\n",
    "y0 = 1\n",
    "h = 0.05\n",
    "N = 100"
   ]
  },
  {
   "cell_type": "markdown",
   "metadata": {},
   "source": [
    "**Ploting the results**"
   ]
  },
  {
   "cell_type": "markdown",
   "metadata": {},
   "source": [
    "In this example, we wanted to solve $\\frac{dy}{dx} = y$, whose analytic solution is $y(x) = e^x$. Below we can compare the analytic solution with the Euler method's solution."
   ]
  },
  {
   "cell_type": "code",
   "execution_count": 4,
   "metadata": {},
   "outputs": [
    {
     "data": {
      "image/png": "[encoded data removed]",
      "text/plain": [
       "<Figure size 582.48x360 with 1 Axes>"
      ]
     },
     "metadata": {},
     "output_type": "display_data"
    }
   ],
   "source": [
    "x, y = euler(f, t0, y0, h, N)\n",
    "\n",
    "plt.figure(figsize=(8.09,5))\n",
    "plt.plot(x,np.exp(x),'r', label=\"Exact Solution\")\n",
    "plt.plot(x,y, 'b--', label=\"Method Solution\")\n",
    "plt.grid()\n",
    "plt.legend(shadow=True, fontsize=12, loc=0)\n",
    "\n",
    "plt.show()"
   ]
  },
  {
   "cell_type": "markdown",
   "metadata": {},
   "source": [
    "### Heun Method"
   ]
  },
  {
   "cell_type": "markdown",
   "metadata": {},
   "source": [
    "The Heun Method (a.k.a. 2nd-order Runge Kutta) consists of"
   ]
  },
  {
   "cell_type": "markdown",
   "metadata": {},
   "source": [
    "**Definition**"
   ]
  },
  {
   "cell_type": "markdown",
   "metadata": {},
   "source": [
    "The function *heun* takes five arguments:\n",
    "* *f* is the function such that $\\frac{dy}{dx} = f(x,y)$.\n",
    "* $t_0$ and $y_0$ represent the initial condition.\n",
    "* *h* is the step you want.\n",
    "* *N* is the number os points you want to approximate.\n",
    "\n",
    "The function returns the data points $x$ and $y$."
   ]
  },
  {
   "cell_type": "code",
   "execution_count": 5,
   "metadata": {},
   "outputs": [],
   "source": [
    "def heun(f, t0, y0, h, N):\n",
    "    t = t0 + np.arange(N+1)*h\n",
    "    y = np.zeros(N+1)\n",
    "    y[0] = y0\n",
    "    for n in range(N):\n",
    "        y[n+1] = y[n] + (h/2.0)*( f(t[n], y[n]) + f(t[n]+h, y[n]+h*f(t[n],y[n])) )\n",
    "    return t,y"
   ]
  },
  {
   "cell_type": "markdown",
   "metadata": {},
   "source": [
    "**Parameters**"
   ]
  },
  {
   "cell_type": "code",
   "execution_count": 6,
   "metadata": {},
   "outputs": [],
   "source": [
    "def f(t,y):\n",
    "    return y\n",
    "\n",
    "t0 = 0\n",
    "y0 = 1\n",
    "h = 0.05\n",
    "N = 100"
   ]
  },
  {
   "cell_type": "markdown",
   "metadata": {},
   "source": [
    "**Ploting results**"
   ]
  },
  {
   "cell_type": "markdown",
   "metadata": {},
   "source": [
    "In this example, we wanted to solve $\\frac{dy}{dx} = y$, whose analytic solution is $y(x) = e^x$. Below we can compare the analytic solution with the Heun method's solution. We can see that it is better than Euler Method because it is a 2nd-order model."
   ]
  },
  {
   "cell_type": "code",
   "execution_count": 7,
   "metadata": {},
   "outputs": [
    {
     "data": {
      "image/png": "[encoded data removed]",
      "text/plain": [
       "<Figure size 582.48x360 with 1 Axes>"
      ]
     },
     "metadata": {},
     "output_type": "display_data"
    }
   ],
   "source": [
    "t, y = heun(f, t0, y0, h, N)\n",
    "\n",
    "plt.figure(figsize=(8.09,5))\n",
    "plt.plot(t,np.exp(t),'r', label=\"Exact Solution\")\n",
    "plt.plot(t,y, 'b--', label=\"Method Solution\")\n",
    "plt.grid()\n",
    "plt.legend(shadow=True, fontsize=12, loc=0)\n",
    "\n",
    "plt.show()"
   ]
  },
  {
   "cell_type": "code",
   "execution_count": null,
   "metadata": {},
   "outputs": [],
   "source": []
  }
 ],
 "metadata": {
  "kernelspec": {
   "display_name": "Python 2",
   "language": "python",
   "name": "python2"
  },
  "language_info": {
   "codemirror_mode": {
    "name": "ipython",
    "version": 2
   },
   "file_extension": ".py",
   "mimetype": "text/x-python",
   "name": "python",
   "nbconvert_exporter": "python",
   "pygments_lexer": "ipython2",
   "version": "2.7.12"
  }
 },
 "nbformat": 4,
 "nbformat_minor": 2
}
