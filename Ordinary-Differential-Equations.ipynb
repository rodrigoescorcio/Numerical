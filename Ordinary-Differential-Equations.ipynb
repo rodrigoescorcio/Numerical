{
 "cells": [
  {
   "cell_type": "markdown",
   "metadata": {},
   "source": [
    "# Ordinary Differential Equations\n",
    "\n",
    "The reason we use numerical methods for solving differential equations is because it is sometimes difficult to find solutions analytically. This is useful because plenty of problems in Science can be modeled using differential equations."
   ]
  },
  {
   "cell_type": "markdown",
   "metadata": {},
   "source": [
    "Let's import some modules to handle numerical data and ploting."
   ]
  },
  {
   "cell_type": "code",
   "execution_count": 47,
   "metadata": {},
   "outputs": [],
   "source": [
    "import numpy as np\n",
    "import matplotlib.pyplot as plt"
   ]
  },
  {
   "cell_type": "markdown",
   "metadata": {},
   "source": [
    "## Initial Value Problem\n",
    "\n",
    "First, we aim to solve an Initial Value Problem (IVP). That is:\n",
    "\n",
    "$$\n",
    "\\begin{cases}\n",
    "    \\dfrac{dy}{dx} = f(x,y) \\\\\n",
    "    y(x_0) = y_0\n",
    "\\end{cases}\n",
    "$$\n",
    "\n",
    "The idea is to construct $x_1, x_2,...,x_n$ equally spaced and calculate approximations to $y_i = y(x_i)$."
   ]
  },
  {
   "cell_type": "markdown",
   "metadata": {},
   "source": [
    "### Euler Method"
   ]
  },
  {
   "cell_type": "markdown",
   "metadata": {},
   "source": [
    "The Euler Method (a.k.a. 1st-order Runge-Kutta) consists of approximate the next point by a line $r(x)$ passing through the current point. That is:\n",
    "$$\n",
    "\\begin{equation}\n",
    "    \\begin{array}{c}\n",
    "        h = x_{k+1}-x_{k} \\\\\n",
    "        r(x) = y(x_k) + (x-x_k)y'(x_k)\\\\\n",
    "        y_{k+1} = y_k + hf(x_k,y_k)\n",
    "    \\end{array}\n",
    "\\end{equation}\n",
    "$$"
   ]
  },
  {
   "cell_type": "markdown",
   "metadata": {},
   "source": [
    "**Definition**"
   ]
  },
  {
   "cell_type": "markdown",
   "metadata": {},
   "source": [
    "The function *euler* takes five arguments:\n",
    "* *f* is the function such that $\\frac{dy}{dx} = f(x,y)$.\n",
    "* $x_0$ and $y_0$ represent the initial condition.\n",
    "* *h* is the step you want.\n",
    "* *N* is the number os points you want to approximate.\n",
    "\n",
    "The function returns the data points $x$ and $y$."
   ]
  },
  {
   "cell_type": "code",
   "execution_count": 48,
   "metadata": {},
   "outputs": [],
   "source": [
    "def euler(f, x0, y0, h, N):\n",
    "    x = x0 + np.arange(N+1)*h\n",
    "    y = np.zeros(N+1)\n",
    "    y[0] = y0\n",
    "    for n in range(N):\n",
    "        y[n+1] = y[n] + h*f(x[n], y[n])\n",
    "    return x,y"
   ]
  },
  {
   "cell_type": "markdown",
   "metadata": {},
   "source": [
    "**Parameters**"
   ]
  },
  {
   "cell_type": "code",
   "execution_count": 49,
   "metadata": {},
   "outputs": [],
   "source": [
    "def f(x,y):\n",
    "    return y\n",
    "\n",
    "x0 = 0\n",
    "y0 = 1\n",
    "h = 0.5\n",
    "N = 20"
   ]
  },
  {
   "cell_type": "markdown",
   "metadata": {},
   "source": [
    "**Ploting the results**"
   ]
  },
  {
   "cell_type": "markdown",
   "metadata": {},
   "source": [
    "In this example, we wanted to solve $\\frac{dy}{dx} = y$, whose analytic solution is $y(x) = e^x$. Below we can compare the analytic solution with the Euler method's solution."
   ]
  },
  {
   "cell_type": "code",
   "execution_count": 50,
   "metadata": {},
   "outputs": [
    {
     "data": {
      "image/png": "[encoded data removed]",
      "text/plain": [
       "<Figure size 582.48x360 with 1 Axes>"
      ]
     },
     "metadata": {},
     "output_type": "display_data"
    }
   ],
   "source": [
    "x, y = euler(f, x0, y0, h, N)\n",
    "\n",
    "plt.figure(figsize=(8.09,5))\n",
    "plt.plot(x,np.exp(x),'r', label=\"Exact Solution\")\n",
    "plt.plot(x,y, 'b--', label=\"Method Solution\")\n",
    "plt.grid()\n",
    "plt.legend(shadow=True, fontsize=12, loc=0)\n",
    "\n",
    "plt.show()"
   ]
  },
  {
   "cell_type": "markdown",
   "metadata": {},
   "source": [
    "### Heun Method"
   ]
  },
  {
   "cell_type": "markdown",
   "metadata": {},
   "source": [
    "The Heun Method (a.k.a. 2nd-order Runge Kutta) consists of"
   ]
  },
  {
   "cell_type": "markdown",
   "metadata": {},
   "source": [
    "**Definition**"
   ]
  },
  {
   "cell_type": "markdown",
   "metadata": {},
   "source": [
    "The function *heun* takes five arguments:\n",
    "* *f* is the function such that $\\frac{dy}{dx} = f(x,y)$.\n",
    "* $t_0$ and $y_0$ represent the initial condition.\n",
    "* *h* is the step you want.\n",
    "* *N* is the number os points you want to approximate.\n",
    "\n",
    "The function returns the data points $x$ and $y$."
   ]
  },
  {
   "cell_type": "code",
   "execution_count": 51,
   "metadata": {},
   "outputs": [],
   "source": [
    "def heun(f, x0, y0, h, N):\n",
    "    x = x0 + np.arange(N+1)*h\n",
    "    y = np.zeros(N+1)\n",
    "    y[0] = y0\n",
    "    for n in range(N):\n",
    "        y[n+1] = y[n] + (h/2.0)*( f(x[n], y[n]) + f(x[n]+h, y[n]+h*f(x[n],y[n])) )\n",
    "    return x,y"
   ]
  },
  {
   "cell_type": "markdown",
   "metadata": {},
   "source": [
    "**Parameters**"
   ]
  },
  {
   "cell_type": "code",
   "execution_count": 52,
   "metadata": {},
   "outputs": [],
   "source": [
    "def f(x,y):\n",
    "    return y\n",
    "\n",
    "x0 = 0\n",
    "y0 = 1\n",
    "h = 0.5\n",
    "N = 20"
   ]
  },
  {
   "cell_type": "markdown",
   "metadata": {},
   "source": [
    "**Ploting results**"
   ]
  },
  {
   "cell_type": "markdown",
   "metadata": {},
   "source": [
    "In this example, we wanted to solve $\\frac{dy}{dx} = y$, whose analytic solution is $y(x) = e^x$. Below we can compare the analytic solution with the Heun method's solution. We can see that it is better than Euler Method because it is a 2nd-order model."
   ]
  },
  {
   "cell_type": "code",
   "execution_count": 53,
   "metadata": {},
   "outputs": [
    {
     "data": {
      "image/png": "[encoded data removed]",
      "text/plain": [
       "<Figure size 582.48x360 with 1 Axes>"
      ]
     },
     "metadata": {},
     "output_type": "display_data"
    }
   ],
   "source": [
    "x, y = heun(f, x0, y0, h, N)\n",
    "\n",
    "plt.figure(figsize=(8.09,5))\n",
    "plt.plot(x,np.exp(x),'r', label=\"Exact Solution\")\n",
    "plt.plot(x,y, 'b--', label=\"Method Solution\")\n",
    "plt.grid()\n",
    "plt.legend(shadow=True, fontsize=12, loc=0)\n",
    "\n",
    "plt.show()"
   ]
  },
  {
   "cell_type": "markdown",
   "metadata": {},
   "source": [
    "### Higher Order Runge-Kutta Methods"
   ]
  },
  {
   "cell_type": "markdown",
   "metadata": {},
   "source": [
    "**3rd-Order Runge-Kutta Definition**"
   ]
  },
  {
   "cell_type": "code",
   "execution_count": 54,
   "metadata": {},
   "outputs": [],
   "source": [
    "def rk3(f, x0, y0, h, N):\n",
    "    x = x0 + np.arange(N+1)*h\n",
    "    y = np.zeros(N+1)\n",
    "    y[0] = y0\n",
    "    for n in range(N):\n",
    "        k1 = h*f(x[n],y[n])\n",
    "        k2 = h*f(x[n]+h/2.0, y[n]+k1/2.0)\n",
    "        k3 = h*f(x[n]+3.0*h/4, y[n]+3.0*k2/4)\n",
    "        y[n+1] = y[n] + 2.0*k1/9 + k2/3.0 + 4.0*k3/9\n",
    "    return x,y"
   ]
  },
  {
   "cell_type": "markdown",
   "metadata": {},
   "source": [
    "**Parameters**"
   ]
  },
  {
   "cell_type": "code",
   "execution_count": 55,
   "metadata": {},
   "outputs": [],
   "source": [
    "def f(x,y):\n",
    "    return y\n",
    "\n",
    "x0 = 0\n",
    "y0 = 1\n",
    "h = 0.5\n",
    "N = 20"
   ]
  },
  {
   "cell_type": "markdown",
   "metadata": {},
   "source": [
    "**Ploting results**"
   ]
  },
  {
   "cell_type": "code",
   "execution_count": 56,
   "metadata": {},
   "outputs": [
    {
     "data": {
      "image/png": "[encoded data removed]",
      "text/plain": [
       "<Figure size 582.48x360 with 1 Axes>"
      ]
     },
     "metadata": {},
     "output_type": "display_data"
    }
   ],
   "source": [
    "x, y = rk3(f, x0, y0, h, N)\n",
    "\n",
    "plt.figure(figsize=(8.09,5))\n",
    "plt.plot(x,np.exp(x),'r', label=\"Exact Solution\")\n",
    "plt.plot(x,y, 'b--', label=\"Method Solution\")\n",
    "plt.grid()\n",
    "plt.legend(shadow=True, fontsize=12, loc=0)\n",
    "\n",
    "plt.show()"
   ]
  },
  {
   "cell_type": "markdown",
   "metadata": {},
   "source": [
    "**4th-Order Runge-Kutta Definition**"
   ]
  },
  {
   "cell_type": "code",
   "execution_count": 57,
   "metadata": {},
   "outputs": [],
   "source": [
    "def rk4(f, x0, y0, h, N):\n",
    "    x = x0 + np.arange(N+1)*h\n",
    "    y = np.zeros(N+1)\n",
    "    y[0] = y0\n",
    "    for n in range(N):\n",
    "        k1 = h*f(x[n],y[n])\n",
    "        k2 = h*f(x[n]+h/2.0, y[n]+k1/2.0)\n",
    "        k3 = h*f(x[n]+h/2.0, y[n]+k2/2.0)\n",
    "        k4 = h*f(x[n]+h,y[n]+k3)\n",
    "        y[n+1] = y[n] + (k1+2*k2+2*k3+k4)/6.0\n",
    "    return x,y"
   ]
  },
  {
   "cell_type": "markdown",
   "metadata": {},
   "source": [
    "**Parameters**"
   ]
  },
  {
   "cell_type": "code",
   "execution_count": 58,
   "metadata": {},
   "outputs": [],
   "source": [
    "def f(x,y):\n",
    "    return y\n",
    "\n",
    "x0 = 0\n",
    "y0 = 1\n",
    "h = 0.5\n",
    "N = 20"
   ]
  },
  {
   "cell_type": "markdown",
   "metadata": {},
   "source": [
    "**Ploting results**"
   ]
  },
  {
   "cell_type": "code",
   "execution_count": 59,
   "metadata": {
    "scrolled": true
   },
   "outputs": [
    {
     "data": {
      "image/png": "[encoded data removed]",
      "text/plain": [
       "<Figure size 582.48x360 with 1 Axes>"
      ]
     },
     "metadata": {},
     "output_type": "display_data"
    }
   ],
   "source": [
    "x, y = rk4(f, x0, y0, h, N)\n",
    "\n",
    "plt.figure(figsize=(8.09,5))\n",
    "plt.plot(x,np.exp(x),'r', label=\"Exact Solution\")\n",
    "plt.plot(x,y, 'b--', label=\"Method Solution\")\n",
    "plt.grid()\n",
    "plt.legend(shadow=True, fontsize=12, loc=0)\n",
    "\n",
    "plt.show()"
   ]
  },
  {
   "cell_type": "markdown",
   "metadata": {},
   "source": [
    "## mth-order Differential Equations\n",
    "\n",
    "It is very common to find problems in which we need to solve a mth-order equation, for instance:\n",
    "\n",
    "$$\n",
    "y^{(m)}=f(x,y,y',y'',...,y^{(m-1)})\n",
    "$$\n",
    "\n",
    "The idea is to transform a mth-order equation in a $m$ equation system, that is:\n",
    "\n",
    "$$\n",
    "\\begin{cases}\n",
    "    z_1 = y \\\\\n",
    "    z_1' = y' = z_2 \\\\\n",
    "    z_2' = y'' = z_3 \\\\\n",
    "    ... \\\\\n",
    "    z_{m-1}' = y^{(m-1)} = z_m \\\\\n",
    "    z_m' = y^{(m)} = f(x,y,y',...,y^{(m-1)})\n",
    "\\end{cases}\n",
    "$$\n",
    "\n",
    "Now we can apply the methods above but using vectors:\n",
    "\n",
    "$$\n",
    "\\begin{cases}\n",
    "    \\dot Y = F(x,Y) \\\\\n",
    "    Y(x_0) = Y_0\n",
    "\\end{cases}\n",
    "$$"
   ]
  },
  {
   "cell_type": "markdown",
   "metadata": {},
   "source": [
    "Let's solve the example below:\n",
    "\n",
    "$$\n",
    "\\begin{cases}\n",
    "    y'' = 4y'-3y-x \\\\\n",
    "    y(0) = 4/9 \\\\\n",
    "    y'(0) = 7/3\n",
    "\\end{cases}\n",
    "$$\n",
    "\n",
    "So let's transform this 2nd-order equation into a 2 equation system:\n",
    "\n",
    "$$\n",
    "\\begin{cases}\n",
    "    y' = z \\\\\n",
    "    z' = 4z-3y-x\n",
    "\\end{cases}\n",
    "$$\n",
    "\n",
    "So we define $Y = \\begin{pmatrix} y \\\\ z \\end{pmatrix}$, $F(x,Y) = \\begin{pmatrix} z \\\\ 4z-3y-x \\end{pmatrix}$ and $Y(0) = \\begin{pmatrix} 4/9 \\\\ 7/3 \\end{pmatrix}$, and let's use the Heun method."
   ]
  },
  {
   "cell_type": "markdown",
   "metadata": {},
   "source": [
    "## Boundary Value Problems"
   ]
  },
  {
   "cell_type": "code",
   "execution_count": null,
   "metadata": {},
   "outputs": [],
   "source": []
  }
 ],
 "metadata": {
  "kernelspec": {
   "display_name": "Python 2",
   "language": "python",
   "name": "python2"
  },
  "language_info": {
   "codemirror_mode": {
    "name": "ipython",
    "version": 2
   },
   "file_extension": ".py",
   "mimetype": "text/x-python",
   "name": "python",
   "nbconvert_exporter": "python",
   "pygments_lexer": "ipython2",
   "version": "2.7.12"
  }
 },
 "nbformat": 4,
 "nbformat_minor": 2
}
