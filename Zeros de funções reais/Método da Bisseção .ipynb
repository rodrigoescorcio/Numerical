{
 "cells": [
  {
   "cell_type": "code",
   "execution_count": 1,
   "metadata": {},
   "outputs": [
    {
     "name": "stdout",
     "output_type": "stream",
     "text": [
      "Digite o inicio do intervalo: 0.4\n",
      "Digite o inicio do intervalo: 0.7\n",
      "Digite a precisao que voce deseja: 0.00000000001\n",
      "Sua raiz aproximada e: 0.57156841664 e o numero de tentativas necessárias foi de: 35\n"
     ]
    }
   ],
   "source": [
    "import math\n",
    "a=input('Digite o inicio do intervalo: ')\n",
    "b=input('Digite o inicio do intervalo: ')\n",
    "p=input('Digite a precisao que voce deseja: ')\n",
    "\n",
    "def f(x):\n",
    "    return x**7+3*x**2-1\n",
    "\n",
    "S='Sua raiz aproximada e: '+str((b+a)/2)\n",
    "\n",
    "if (b-a)<p:\n",
    "    print S\n",
    "else:\n",
    "    k=1\n",
    "    M=f(a)\n",
    "    \n",
    "    while True:\n",
    "        x=(a+b)/2\n",
    "        if M*f(x)>0:\n",
    "            a=x\n",
    "        else:\n",
    "            b=x\n",
    "        if (b-a)<p:\n",
    "            x=(a+b)/2\n",
    "            break\n",
    "            \n",
    "        k+=1   \n",
    "            \n",
    "print 'Sua raiz aproximada e: '+str(x)+' e o numero de tentativas necessárias foi de: '+str(k)"
   ]
  },
  {
   "cell_type": "code",
   "execution_count": null,
   "metadata": {},
   "outputs": [],
   "source": []
  }
 ],
 "metadata": {
  "kernelspec": {
   "display_name": "Python 2",
   "language": "python",
   "name": "python2"
  },
  "language_info": {
   "codemirror_mode": {
    "name": "ipython",
    "version": 2
   },
   "file_extension": ".py",
   "mimetype": "text/x-python",
   "name": "python",
   "nbconvert_exporter": "python",
   "pygments_lexer": "ipython2",
   "version": "2.7.15"
  }
 },
 "nbformat": 4,
 "nbformat_minor": 2
}
