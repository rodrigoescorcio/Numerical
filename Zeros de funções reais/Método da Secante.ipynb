{
 "cells": [
  {
   "cell_type": "code",
   "execution_count": 2,
   "metadata": {},
   "outputs": [
    {
     "name": "stdout",
     "output_type": "stream",
     "text": [
      "Voce precisa digitar duas aproximacoes da sua raiz!\n",
      "Digite a primeira aproximacao da raiz: 0.4\n",
      "Digite a segunda aproximacao da raiz: 0.7\n",
      "Digite a precisao 1: 0.00000000001\n",
      "Digite a precisao 2: 0.00000000001\n",
      "Sua raiz aproximada é: 0.571568416637e o numero de tentativas foi de: 1\n"
     ]
    }
   ],
   "source": [
    "print 'Voce precisa digitar duas aproximacoes da sua raiz!'\n",
    "x0=input(\"Digite a primeira aproximacao da raiz: \")\n",
    "x1=input(\"Digite a segunda aproximacao da raiz: \")\n",
    "p1=input('Digite a precisao 1: ')\n",
    "p2=input('Digite a precisao 2: ')\n",
    "\n",
    "\n",
    "def f(x):\n",
    "    return x**7+3*x**2-1\n",
    "\n",
    "if abs(f(x0))<p1:\n",
    "    xap=x0\n",
    "    print 'Sua raiz aproximada é: '+str(xap)\n",
    "\n",
    "elif abs(f(x1))<p1 or abs(x1-x0)<p2:\n",
    "    xap=x1\n",
    "    \n",
    "    \n",
    "while True:\n",
    "    k=1\n",
    "    x2=x1-(f(x1)*(x1-x0))/(f(x1)-f(x0))\n",
    "    \n",
    "    if abs(f(x1))<p1 or abs(x1-x0)<p2:\n",
    "        xap=x1\n",
    "        break\n",
    "    x0=x1\n",
    "    x1=x2\n",
    "    k+=1\n",
    "    \n",
    "print 'Sua raiz aproximada é: '+str(xap)+ 'e o numero de tentativas foi de: '+str(k)    \n",
    "  \n",
    "    "
   ]
  },
  {
   "cell_type": "code",
   "execution_count": null,
   "metadata": {},
   "outputs": [],
   "source": []
  }
 ],
 "metadata": {
  "kernelspec": {
   "display_name": "Python 2",
   "language": "python",
   "name": "python2"
  },
  "language_info": {
   "codemirror_mode": {
    "name": "ipython",
    "version": 2
   },
   "file_extension": ".py",
   "mimetype": "text/x-python",
   "name": "python",
   "nbconvert_exporter": "python",
   "pygments_lexer": "ipython2",
   "version": "2.7.15"
  }
 },
 "nbformat": 4,
 "nbformat_minor": 2
}
