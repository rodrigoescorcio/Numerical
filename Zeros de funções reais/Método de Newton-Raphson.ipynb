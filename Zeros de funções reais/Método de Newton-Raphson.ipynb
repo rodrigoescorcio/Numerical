{
 "cells": [
  {
   "cell_type": "code",
   "execution_count": 3,
   "metadata": {},
   "outputs": [
    {
     "name": "stdout",
     "output_type": "stream",
     "text": [
      "Digite a sua aproximacao inicial de raiz: 0.4\n",
      "Digite a precisao 1: 0.00000000001\n",
      "Digite a precisao 2: 0.00000000001\n",
      "Sua raiz aproximada é: 0.571568416637e o numero de tentativas foi de: 1\n"
     ]
    }
   ],
   "source": [
    "x0=input(\"Digite a sua aproximacao inicial de raiz: \")\n",
    "p1=input('Digite a precisao 1: ')\n",
    "p2=input('Digite a precisao 2: ')\n",
    "\n",
    "\n",
    "def f(x):\n",
    "    return x**7+3*x**2-1\n",
    "def fd(x):\n",
    "    return 7*x**6+6*x\n",
    "\n",
    "if abs(f(x0))<p1:\n",
    "    xap=x0\n",
    "    print 'Sua raiz aproximada é: '+str(xap)\n",
    "\n",
    "while True:\n",
    "    k=1\n",
    "    x1=x0-f(x0)/fd(x0)\n",
    "    \n",
    "    if abs(f(x1))<p1 or abs(x1-x0)<p2:\n",
    "        xap=x1\n",
    "        break\n",
    "    \n",
    "    x0=x1\n",
    "    k+=1\n",
    "print 'Sua raiz aproximada é: '+str(xap)+ 'e o numero de tentativas foi de: '+str(k)    \n"
   ]
  },
  {
   "cell_type": "code",
   "execution_count": null,
   "metadata": {},
   "outputs": [],
   "source": []
  }
 ],
 "metadata": {
  "kernelspec": {
   "display_name": "Python 2",
   "language": "python",
   "name": "python2"
  },
  "language_info": {
   "codemirror_mode": {
    "name": "ipython",
    "version": 2
   },
   "file_extension": ".py",
   "mimetype": "text/x-python",
   "name": "python",
   "nbconvert_exporter": "python",
   "pygments_lexer": "ipython2",
   "version": "2.7.15"
  }
 },
 "nbformat": 4,
 "nbformat_minor": 2
}
