{
 "cells": [
  {
   "cell_type": "code",
   "execution_count": 1,
   "metadata": {},
   "outputs": [
    {
     "name": "stdout",
     "output_type": "stream",
     "text": [
      "Digite o inicio do seu intervalo: 0.4\n",
      "Digite o fim do seu intervalo: 0.7\n",
      "Digite a aproximacao aceitavel da raiz desejada: 0.00000000001\n",
      "Digite a aproximacao aceitavel de f(x) em comparacao com o f(x) da raiz real: 0.00000000001\n",
      "Sua raiz aproximada é: 0.571568416635 e o numero de tentativas foi de: 13\n"
     ]
    }
   ],
   "source": [
    "a=input('Digite o inicio do seu intervalo: ')\n",
    "b=input('Digite o fim do seu intervalo: ')\n",
    "p1=input('Digite a aproximacao aceitavel da raiz desejada: ')\n",
    "p2=input('Digite a aproximacao aceitavel de f(x) em comparacao com o f(x) da raiz real: ')\n",
    "\n",
    "def f(x):\n",
    "    return x**7+3*x**2-1\n",
    "\n",
    "\n",
    "if (b-a)<p1:\n",
    "    x=(b+a)/2\n",
    "    print 'Sua raiz aproximada é: '+str(x)\n",
    "    \n",
    "elif abs(f(a))<p2:\n",
    "    x=f(a)\n",
    "    print 'Sua raiz aproximada é: '+str(x)\n",
    "    \n",
    "elif abs(f(b))<p2:\n",
    "    x=f(b)\n",
    "    print 'Sua raiz aproximada é: '+str(x)\n",
    "    \n",
    "    \n",
    "else:\n",
    "    k=1\n",
    "    M=f(a)\n",
    "    \n",
    "    while True:\n",
    "        x=(a*f(b)-b*f(a))/(f(b)-f(a))\n",
    "        \n",
    "        if abs(f(x))<p2:\n",
    "            break\n",
    "        \n",
    "        else:\n",
    "            if M*f(x)>0:\n",
    "                a=x\n",
    "            else:\n",
    "                b=x\n",
    "            \n",
    "            if (b-a)<p1:\n",
    "                x=(a+b)/2\n",
    "                break\n",
    "            \n",
    "            k+=1  \n",
    "                \n",
    "print 'Sua raiz aproximada é: '+str(x)+' e o numero de tentativas foi de: '+str(k)"
   ]
  },
  {
   "cell_type": "code",
   "execution_count": null,
   "metadata": {},
   "outputs": [],
   "source": []
  }
 ],
 "metadata": {
  "kernelspec": {
   "display_name": "Python 2",
   "language": "python",
   "name": "python2"
  },
  "language_info": {
   "codemirror_mode": {
    "name": "ipython",
    "version": 2
   },
   "file_extension": ".py",
   "mimetype": "text/x-python",
   "name": "python",
   "nbconvert_exporter": "python",
   "pygments_lexer": "ipython2",
   "version": "2.7.15"
  }
 },
 "nbformat": 4,
 "nbformat_minor": 2
}
