{
 "cells": [
  {
   "cell_type": "markdown",
   "metadata": {},
   "source": [
    "# Zeros of real functions\n",
    "\n",
    "Unlikely some polynomial functions, that we have some formulas to find the exact roots, it's kind of impossible to know the exact roots of the most part of the existing functions,because there aren't simples methods or formulas available to do it. With that in mind, there was the need to develop numerical methods to find the aproximated roots of any function.\n",
    "\n",
    "First, let's import some modules to help us.\n"
   ]
  },
  {
   "cell_type": "code",
   "execution_count": 2,
   "metadata": {},
   "outputs": [],
   "source": [
    "import matplotlib.pyplot as plt\n",
    "import numpy as np\n",
    "import math"
   ]
  },
  {
   "cell_type": "markdown",
   "metadata": {},
   "source": [
    "# Bisection method\n",
    "\n",
    "This method consists in dividing the interval (a,b) by half until it reaches the precision desired to the root:(b-a)<ε\n",
    "\n",
    "Consider that f(x) is a continuous function in the interval (a,b) and f(a)f(b)<0, which implies that there is at least one root between a and b.\n",
    "\n"
   ]
  },
  {
   "cell_type": "code",
   "execution_count": 5,
   "metadata": {},
   "outputs": [
    {
     "data": {
      "image/png": "[encoded data removed]",
      "text/plain": [
       "<Figure size 432x288 with 1 Axes>"
      ]
     },
     "metadata": {
      "needs_background": "light"
     },
     "output_type": "display_data"
    }
   ],
   "source": [
    "x = np.linspace(-0.4,1)\n",
    "\n",
    "plt.grid(True)\n",
    "plt.xlabel(\"x axis\")\n",
    "plt.ylabel(\"y axis\")\n",
    "plt.title(\"Example\")\n",
    "\n",
    "plt.plot(x,x**7+3*x**2-1)\n",
    "\n",
    "plt.plot(0.57156841664,0,'bo')\n",
    "\n",
    "plt.plot(1,3,'ro')\n",
    "plt.plot(-0.4,-0.5216384,'ro')\n",
    "plt.plot(1,0,'ro')\n",
    "plt.plot(-0.4,0,'ro')\n",
    "\n",
    "plt.plot(0.65,0,'yo')\n",
    "plt.plot(0.65,0.316522,'yo')\n",
    "\n",
    "plt.plot(0.3,0,'go')\n",
    "plt.plot(0.3,-0.7297813,'go')\n",
    "\n",
    "plt.plot(0.475,-0.31766,'co')\n",
    "plt.plot(0.475,0,'co')\n",
    "\n",
    "plt.show()\n"
   ]
  },
  {
   "cell_type": "markdown",
   "metadata": {},
   "source": [
    "* ### First step: Choose your interval and the precision wanted\n",
    "    The zero of the given function f(x) is between the interval (-0.4,1), we know that because f(-0.4)f(1)<0!\n",
    "    Our precision in this case will be ε=0.01 \n",
    "    \n",
    "    After decided your precision ε, we'll start the process:\n",
    "\n",
    "\n",
    "\n",
    "* ### Second step: Check if your interval is already good enough for you\n",
    "    (b-a)<ε it's a quite simple test.\n",
    "    If the range of the interval is smaller than the precision choosen, any value of the given interval can be accepted.\n",
    "    \n",
    "    As you can notice, this is not our case.\n",
    "\n",
    "\n",
    "\n",
    "* ### Third step: Split your interval by 2\n",
    "    x=$\\frac{(b+a)}{2}$, for our function and the interval choosen:\n",
    "    \n",
    "    x=$\\frac{(1+(-0.4))}{2} = 0.3 \\to x=0.3$ and f(0.3) are represented by the green points in the graphic\n",
    "    \n",
    "\n",
    "\n",
    "* ### Fourth step: Decreasing the interval\n",
    "    Like it was said before, the whole point of this method is to decrease the interval choosen, but we have to run some tests first.\n",
    "    Now we'll test if there is a root between (a,x) or (x,b), doind this we'll find the 'real' new interval\n",
    "    \n",
    "    If f(a)f(x)<0 -> there is a root of the given function betwwen this interval, so b=x and we have a new interval\n",
    "    \n",
    "    If f(x)f(b)<0 -> there is a root of the given function betwwen this interval, so a=x and we have a new interval\n",
    "    \n",
    "    In the example f(-0.4)f(x)>0 and f(x)f(1)<0, so the zero of the function f(x) is in the interval (x,1), so the new interval is (0.3,5)\n",
    "    \n",
    "\n",
    "\n",
    "* ### Fifth step: Testing the new interval\n",
    "    Now we have to now if the new interval is 'small' enough according to the precision choosen\n",
    "    (b-a)<ε if the condition was satisfied, any value of the given interval can be accepted \n",
    "    If *not*, go back to the step 3 again!\n",
    "    \n",
    "    As you can notice, in our example we must to comeback to the step 3 because the condition was not satisfied\n",
    "    The blue and the yellow points represents the next 2 iterations.k is number of iterations,if k$\\to \\infty$ we'll find the exact root of the given function.\n",
    "    \n",
    "   "
   ]
  },
  {
   "cell_type": "code",
   "execution_count": 8,
   "metadata": {},
   "outputs": [
    {
     "name": "stdout",
     "output_type": "stream",
     "text": [
      "Enter the start of the interval: -0.4\n",
      "Enter the end of the interval: 1\n",
      "Enter the precision that you desire: 0.01\n",
      "Your aproximated root is: 0.570703125 and the number of iterations was: 8\n"
     ]
    }
   ],
   "source": [
    "a=input('Enter the start of the interval: ')\n",
    "b=input('Enter the end of the interval: ')          #Step 1\n",
    "p=input('Enter the precision that you desire: ')\n",
    "\n",
    "def f(x):\n",
    "    return x**7+3*x**2-1\n",
    "\n",
    "S='Your aproximated root is: '+str((b+a)/2)\n",
    "\n",
    "if (b-a)<p:  #Step 2\n",
    "    print S                                        \n",
    "else:                                               \n",
    "    k=1 #number of iterations\n",
    "    M=f(a)\n",
    "    \n",
    "    while True:\n",
    "        x=(a+b)/2   #Step 3\n",
    "        \n",
    "        \n",
    "        if M*f(x)>0:\n",
    "            a=x\n",
    "        else:        #Step 4\n",
    "            b=x                                    \n",
    "        \n",
    "        if (b-a)<p:\n",
    "            x=(a+b)/2  #Step 5\n",
    "            break\n",
    "            \n",
    "        k+=1   \n",
    "            \n",
    "print'Your aproximated root is: '+str(x)+' and the number of iterations was: '+str(k)"
   ]
  },
  {
   "cell_type": "markdown",
   "metadata": {},
   "source": [
    "# False Position Method\n",
    "\n",
    "It's almost the same thing than the Bisection method, but with some improvements.\n",
    "\n",
    "In the last example $f(x)=x^7+3x^2-1$, [a,b]=[-0.4,1] and $f(1)=3> 0 >-0.52=f(-0.4). f(-0.4)$ is closer to zero than f(1), so it's more likely that the root of f(x) is closer to f(-0.4). To use that as an advantage, instead of using the arithmetic average, we'll use weighted average between a and b with the weights |f(a)| and |f(b)|.\n",
    "\n",
    "$$x = \\frac{a|f(b)|+b|f(a)|}{|f(b)|+|f(a)|} = \\frac{af(b)-bf(a)}{f(b)-f(a)}$$\n",
    "Wich implies that x is the point of intersection of a line that contains (a,f(a)) and (b,f(b)) whith the x axis, let me show you that:\n",
    "\n",
    "The equation of the line is y-yo=m(x-xo), with 'm' being angular coefficient, and using the point (b,f(b)) we have:\n",
    "\n",
    "$m=\\frac{f(b)-f(a)}{b-a} and y-f(b)=m(x-b)$ and y=0 because it's the intersection with de x axis\n",
    "\n",
    "$-f(b)=\\frac{f(b)-f(a)}{b-a}(x-b)\\to x = \\frac{-f(b)(b-a)}{f(b)-f(a)}+b = \\frac{af(b)-bf(a)}{f(b)-f(a)}$ do the math :)\n",
    "\n",
    "Now, let me show you the process:\n"
   ]
  },
  {
   "cell_type": "code",
   "execution_count": 21,
   "metadata": {},
   "outputs": [
    {
     "data": {
      "text/plain": [
       "[<matplotlib.lines.Line2D at 0x8001668>]"
      ]
     },
     "execution_count": 21,
     "metadata": {},
     "output_type": "execute_result"
    },
    {
     "data": {
      "image/png": "[encoded data removed]",
      "text/plain": [
       "<Figure size 432x288 with 1 Axes>"
      ]
     },
     "metadata": {
      "needs_background": "light"
     },
     "output_type": "display_data"
    }
   ],
   "source": [
    "x = np.linspace(-0.4,1)\n",
    "\n",
    "plt.grid(True)\n",
    "plt.xlabel(\"x axis\")\n",
    "plt.ylabel(\"y axis\")\n",
    "plt.title(\"Example\")\n",
    "\n",
    "plt.plot(x,x**7+3*x**2-1)\n",
    "\n",
    "plt.plot(0.57156841664,0,'bo')\n",
    "\n",
    "plt.plot(1,3,'ro')\n",
    "plt.plot(-0.4,-0.5216384,'ro')\n",
    "plt.plot(1,0,'ro')\n",
    "plt.plot(-0.4,0,'ro')\n",
    "\n",
    "plt.plot(x,3.26061347043*x+-0.260613470433)\n",
    "plt.plot(-0.192626704661,0,'go')\n",
    "plt.plot(-0.192626704661,-0.888694698416,'go')\n",
    "\n",
    "plt.plot(x,2.515456*x+0.484544)\n",
    "plt.plot(0.07992774145,0,'yo')\n",
    "plt.plot(0.07992774145,-0.980834647601,'yo')\n",
    "\n",
    "plt.plot(x,4.32665435851*x+-1.32665435851)\n",
    "plt.plot(0.30662360535,0,'co')\n",
    "plt.plot(0.30662360535,-0.717691070646,'co')\n",
    "\n",
    "\n"
   ]
  },
  {
   "cell_type": "markdown",
   "metadata": {},
   "source": [
    "* ### First step: Choose your interval and the precision wanted\n",
    "    The zero of the given function f(x) is between the interval (-0.4,1), we know that because f(-0.4)f(1)<0!\n",
    "    In this method we'll use 2 kinds of precision, one will be for we know when it's close enough of the exact root by the x axis and the another one will be for we know when the f(the aproximated root) is close enough to the f(the exact root)=0, the closer the value f(x) is to zero, the closer x is to the exact root \n",
    "    Our precision in this case will be ε1=ε1=0.01\n",
    "    \n",
    "    After decided your precisions ε1 and ε2, we'll start the process:\n",
    "\n",
    "\n",
    "\n",
    "* ### Second step: Check if your interval is already good enough for you\n",
    "    (b-a)<ε1 or |f(a)|<ε2 or |f(b)|<ε2 quite simple tests.\n",
    "    If the range of the interval is smaller than the precision 1 choosen,any value of the given interval can be accepted.\n",
    "    Now, if the distance of f(b) or f(a) to 0 is smaller than the precision 2 choosen, b or a will be consider the approximated root respectively\n",
    "    \n",
    "    As you can notice, this is not our case.\n",
    "\n",
    "\n",
    "\n",
    "* ### Third step: Split your interval \n",
    "    x=$\\frac{af(b)-bf(a)}{f(b)-f(a)}$, for our function and the interval choosen:\n",
    "    \n",
    "    x=$\\frac{((-0.4).3+1.(-0.5216384))}{3-(-0.5216384)} = -0.192626704661 \\to x=-0.192626704661$ and f(-0.192626704661) are represented by the green points in the graphic\n",
    "    \n",
    "\n",
    "\n",
    "* ### Fourth step: Decreasing the interval\n",
    "    Like it was said before, the whole point of this method is to decrease the interval choosen, but we have to run some tests first.\n",
    "    Now we'll test if there is a root between (a,x) or (x,b), doind this we'll find the 'real' new interval\n",
    "    \n",
    "    If f(a)f(x)<0 -> there is a root of the given function betwwen this interval, so b=x and we have a new interval\n",
    "    \n",
    "    If f(x)f(b)<0 -> there is a root of the given function betwwen this interval, so a=x and we have a new interval\n",
    "    \n",
    "    In the example f(-0.4)f(x)>0 and f(x)f(1)<0, so the zero of the function f(x) is in the interval (x,1), so the new interval is (-0.192626704661,5)\n",
    "    \n",
    "\n",
    "\n",
    "* ### Fifth step: Testing the new interval\n",
    "    Now we have to now if the new interval is 'small' enough according to the precision choosen\n",
    "    (b-a)<ε if the condition was satisfied, any value of the given interval can be accepted \n",
    "    If *not*, go back to the step 3 again!\n",
    "    \n",
    "    As you can notice, in our example we must to comeback to the step 3 because the condition was not satisfied\n",
    "    The blue and the yellow points represents the next 2 iterations.k is number of iterations,if k$\\to \\infty$ we'll find the exact root of the given function."
   ]
  },
  {
   "cell_type": "code",
   "execution_count": null,
   "metadata": {},
   "outputs": [],
   "source": [
    "a=input('Enter the start of the interval: ')\n",
    "b=input('Enter the end of the interval: ')          #Step 1\n",
    "p1=input('Enter the precision that you desire: ')\n",
    "p2=input('Enter the precision that you desire for the distance between f(x) and 0: ')\n",
    "\n",
    "def f(x):\n",
    "    return x**7+3*x**2-1\n",
    "\n",
    "\n",
    "if (b-a)<p1:\n",
    "    x=(b+a)/2\n",
    "    print 'Your aproximated root is: '+str(x)\n",
    "    \n",
    "elif abs(f(a))<p2:\n",
    "    x=f(a)\n",
    "    print 'Your aproximated root is: '+str(x)   #Step 2\n",
    "    \n",
    "elif abs(f(b))<p2:\n",
    "    x=f(b)\n",
    "    print 'Your aproximated root is: '+str(x)\n",
    "    \n",
    "    \n",
    "else:\n",
    "    k=1\n",
    "    M=f(a)\n",
    "    \n",
    "    while True:\n",
    "        x=(a*f(b)-b*f(a))/(f(b)-f(a)) #Step 3\n",
    "        \n",
    "        if abs(f(x))<p2: #Step 5\n",
    "            break\n",
    "        \n",
    "        else:\n",
    "            if M*f(x)>0:\n",
    "                a=x\n",
    "            else:         #Step 4\n",
    "                b=x\n",
    "            \n",
    "            if (b-a)<p1:\n",
    "                x=(a+b)/2    #Step 5\n",
    "                break\n",
    "            \n",
    "            k+=1  \n",
    "                \n",
    "print'Your aproximated root is: '+str(x)+' and the number of iterations was: '+str(k)"
   ]
  }
 ],
 "metadata": {
  "kernelspec": {
   "display_name": "Python 2",
   "language": "python",
   "name": "python2"
  },
  "language_info": {
   "codemirror_mode": {
    "name": "ipython",
    "version": 2
   },
   "file_extension": ".py",
   "mimetype": "text/x-python",
   "name": "python",
   "nbconvert_exporter": "python",
   "pygments_lexer": "ipython2",
   "version": "2.7.15"
  }
 },
 "nbformat": 4,
 "nbformat_minor": 2
}
