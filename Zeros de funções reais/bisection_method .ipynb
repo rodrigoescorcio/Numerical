{
 "cells": [
  {
   "cell_type": "markdown",
   "metadata": {},
   "source": [
    "# Zeros of real functions\n",
    "\n",
    "Unlikely some polynomial functions, that we have some formulas to find the exact roots, it's kind of impossible to know the exact roots of the most part of the existing functions,because there aren't simples methods or formulas available to do it. With that in mind, there was the need to develop numerical methods to find the aproximated roots of any function.\n",
    "\n",
    "First, let's import some modules to help us.\n"
   ]
  },
  {
   "cell_type": "code",
   "execution_count": 1,
   "metadata": {},
   "outputs": [],
   "source": [
    "import matplotlib.pyplot as plt\n",
    "import numpy as np\n",
    "import math"
   ]
  },
  {
   "cell_type": "markdown",
   "metadata": {},
   "source": [
    "# Bisection method\n",
    "\n",
    "This method consists in dividing the interval (a,b) by half until it reaches the precision desired to the root:(b-a)<ε\n",
    "\n",
    "Consider that f(x) is a continuous function in the interval (a,b) and f(a)f(b)<0, which implies that there is at least one root between a and b.\n",
    "\n"
   ]
  },
  {
   "cell_type": "code",
   "execution_count": 23,
   "metadata": {},
   "outputs": [
    {
     "data": {
      "image/png": "[encoded data removed]",
      "text/plain": [
       "<Figure size 432x288 with 1 Axes>"
      ]
     },
     "metadata": {
      "needs_background": "light"
     },
     "output_type": "display_data"
    }
   ],
   "source": [
    "x = np.linspace(-1,5)\n",
    "a=[2.150367627183861,0]\n",
    "\n",
    "plt.grid(True)\n",
    "plt.xlabel(\"x axis\")\n",
    "plt.ylabel(\"y axis\")\n",
    "plt.title(\"Example\")\n",
    "\n",
    "plt.plot(x,2*x**2+5*x-20)\n",
    "\n",
    "plt.plot(2.150367627183861,0,'bo')\n",
    "\n",
    "plt.plot(-1,-23,'ro')\n",
    "plt.plot(5,55,'ro')\n",
    "plt.plot(5,0,'ro')\n",
    "plt.plot(-1,0,'ro')\n",
    "\n",
    "plt.plot(3.5,0,'yo')\n",
    "plt.plot(3.5,22,'yo')\n",
    "\n",
    "plt.plot(2,0,'go')\n",
    "plt.plot(2,-2,'go')\n",
    "\n",
    "plt.plot(2.75,0,'co')\n",
    "plt.plot(2.75,8.875,'co')\n",
    "\n",
    "\n",
    "plt.show()\n"
   ]
  },
  {
   "cell_type": "markdown",
   "metadata": {},
   "source": [
    "* ### First step: Choose your interval and the precision wanted\n",
    "    The zero of the given function f(x) is between the interval (-1,5), we know that because f(-1)f(5)<0!\n",
    "    Our precision in this case will be ε=0.01 \\n\n",
    "    \n",
    "    After decided your precision ε, we'll start the process:\n",
    "\n",
    "\n",
    "\n",
    "* ### Second step: Check if your interval is already good enough for you\n",
    "    (b-a)<ε it's a quite simple test.\n",
    "    If the range of the interval is smaller than the precision choosen, any value of the given interval can be accepted.\n",
    "    \n",
    "    As you can notice, this is not our case.\n",
    "\n",
    "\n",
    "\n",
    "* ### Third step: Split your interval by 2\n",
    "    x=$\\frac{(b+a)}{2}$, for our function and the interval choosen:\n",
    "    \n",
    "    x=$\\frac{(5+(-1))}{2} = 2 \\to x=2$ and f(2) are represented by the green points in the graphic\n",
    "    \n",
    "\n",
    "\n",
    "* ### Fourth step: Decreasing the interval\n",
    "    Like it was said before, the whole point of this method is to decrease the interval choosen, but we have to run some tests first.\n",
    "    Now we'll test if there is a root between (a,x) or (x,b), doind this we'll find the 'real' new interval\n",
    "    \n",
    "    If f(a)f(x)<0 -> there is a root of the given function betwwen this interval, so b=x and we have a new interval\n",
    "    \n",
    "    If f(x)f(b)<0 -> there is a root of the given function betwwen this interval, so a=x and we have a new interval\n",
    "    \n",
    "    In the example f(-1)f(x)>0 and f(x)f(5)<0, so the zero of the function f(x) is in the interval (x,5), so the new interval is (2,5)\n",
    "    \n",
    "\n",
    "\n",
    "* ### Fifth step: Testing the new interval\n",
    "    Now we have to now if the new interval is 'small' enough according to the precision choosen\n",
    "    (b-a)<ε if the condition was satisfied, any value of the given interval can be accepted \n",
    "    If *not*, go back to the step 3 again!\n",
    "    \n",
    "    As you can notice, in our example we must to comeback to the step 3 because the condition was not satisfied\n",
    "    The blue and the yellow points represents the next 2 iterations.k is number of iterations,if k$\\to \\infty$ we'll find the exact root of the given function.\n",
    "    \n",
    "   "
   ]
  },
  {
   "cell_type": "code",
   "execution_count": null,
   "metadata": {},
   "outputs": [
    {
     "name": "stdout",
     "output_type": "stream",
     "text": [
      "Enter the start of the interval: -1\n",
      "Enter the end of the interval: 5\n",
      "Enter the precision that you desire: 0.01\n"
     ]
    }
   ],
   "source": [
    "a=input('Enter the start of the interval: ')\n",
    "b=input('Enter the end of the interval: ')          #Step 1\n",
    "p=input('Enter the precision that you desire: ')\n",
    "\n",
    "def f(x):\n",
    "    return 2*(x**2)+5*x-20\n",
    "\n",
    "S='Your aproximated root is: '+str((b+a)/2)\n",
    "\n",
    "if (b-a)<p:  #Step 2\n",
    "    print S                                        \n",
    "else:                                               \n",
    "    k=1 #number of iterations\n",
    "    M=f(a)\n",
    "    \n",
    "    while True:\n",
    "        x=(a+b)/2   #Step 3\n",
    "        \n",
    "        \n",
    "        if M*f(x)>0:\n",
    "            a=x\n",
    "        else:        #Step 4\n",
    "            b=x                                    \n",
    "        \n",
    "        if (b-a)<p:\n",
    "            x=(a+b)/2  #Step 5\n",
    "            break\n",
    "            \n",
    "        k+=1   \n",
    "            \n",
    "print'Your aproximated root is: '+str(x)+' and the number of attempts needed was: '+str(k)"
   ]
  },
  {
   "cell_type": "markdown",
   "metadata": {},
   "source": [
    "# False Position Method\n",
    "\n"
   ]
  }
 ],
 "metadata": {
  "kernelspec": {
   "display_name": "Python 2",
   "language": "python",
   "name": "python2"
  },
  "language_info": {
   "codemirror_mode": {
    "name": "ipython",
    "version": 2
   },
   "file_extension": ".py",
   "mimetype": "text/x-python",
   "name": "python",
   "nbconvert_exporter": "python",
   "pygments_lexer": "ipython2",
   "version": "2.7.15"
  }
 },
 "nbformat": 4,
 "nbformat_minor": 2
}
