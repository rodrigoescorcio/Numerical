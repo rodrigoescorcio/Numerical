{
 "cells": [
  {
   "cell_type": "markdown",
   "metadata": {},
   "source": [
    "# Zeros of real functions\n",
    "\n",
    "Unlikely some polynomial functions, that we have some formulas to find the exact roots, it's kind of impossible to know the exact roots of the most part of the existing functions,because there aren't simples methods or formulas available to do it. With that in mind, there was the need to develop numerical methods to find the aproximated roots of any function.\n",
    "\n",
    "First, let's import some modules to help us.\n"
   ]
  },
  {
   "cell_type": "code",
   "execution_count": 4,
   "metadata": {},
   "outputs": [],
   "source": [
    "import matplotlib.pyplot as plt\n",
    "import numpy as np\n",
    "import math"
   ]
  },
  {
   "cell_type": "markdown",
   "metadata": {},
   "source": [
    "# Bisection method\n",
    "\n",
    "This method consists in dividing the interval (a,b) by half until it reaches the precision desired to the root:(b-a)<ε\n",
    "\n",
    "Consider that f(x) is a continuous function in the interval (a,b) and f(a)f(b)<0, which implies that there is at least one root between a and b.\n",
    "\n"
   ]
  },
  {
   "cell_type": "code",
   "execution_count": 27,
   "metadata": {},
   "outputs": [
    {
     "data": {
      "image/png": "[encoded data removed]",
      "text/plain": [
       "<Figure size 432x288 with 1 Axes>"
      ]
     },
     "metadata": {
      "needs_background": "light"
     },
     "output_type": "display_data"
    }
   ],
   "source": [
    "x = np.linspace(-0.4,1)\n",
    "\n",
    "x1=[1,1]\n",
    "y1=[3,0]\n",
    "\n",
    "x2=[-0.4,-0.4]\n",
    "y2=[-0.5216384,0]\n",
    "\n",
    "x3=[0.3,0.3]\n",
    "y3=[0,-0.7297813]\n",
    "\n",
    "x4=[0.65,0.65]\n",
    "y4=[0.316522,0]\n",
    "\n",
    "x5=[0.475,0.475]\n",
    "y5=[0,-0.31766]\n",
    "\n",
    "plt.grid(True)\n",
    "plt.xlabel(\"x axis\")\n",
    "plt.ylabel(\"y axis\")\n",
    "plt.title(\"Example\")\n",
    "\n",
    "plt.plot(x,x**7+3*x**2-1)\n",
    "\n",
    "plt.plot(0.57156841664,0,'bo')\n",
    "\n",
    "plt.plot(1,3,'ro')\n",
    "plt.plot(-0.4,-0.5216384,'ro')\n",
    "plt.plot(1,0,'ro')\n",
    "plt.plot(-0.4,0,'ro')\n",
    "plt.plot(x1,y1,'k--', color='red')\n",
    "plt.plot(x2,y2,'k--', color='red')\n",
    "\n",
    "plt.plot(0.3,0,'go')\n",
    "plt.plot(0.3,-0.7297813,'go')\n",
    "plt.plot(x3,y3,'k--', color='green')\n",
    "\n",
    "plt.plot(0.65,0,'yo')\n",
    "plt.plot(0.65,0.316522,'yo')\n",
    "plt.plot(x4,y4,'k--', color='yellow')\n",
    "\n",
    "plt.plot(0.475,-0.31766,'co')\n",
    "plt.plot(0.475,0,'co')\n",
    "plt.plot(x5,y5,'k--', color='cyan')\n",
    "\n",
    "plt.show()\n"
   ]
  },
  {
   "cell_type": "markdown",
   "metadata": {},
   "source": [
    "* ### First step: Choose your interval and the precision wanted\n",
    "    The zero of the given function f(x) is between the interval (-0.4,1), we know that because f(-0.4)f(1)<0!\n",
    "    Our precision in this case will be ε=0.01 \n",
    "    \n",
    "    After decided your precision ε, we'll start the process:\n",
    "\n",
    "\n",
    "\n",
    "* ### Second step: Check if your interval is already good enough for you\n",
    "    (b-a)<ε it's a quite simple test.\n",
    "    If the range of the interval is smaller than the precision choosen, any value of the given interval can be accepted.\n",
    "    \n",
    "    As you can notice, this is not our case.\n",
    "\n",
    "\n",
    "\n",
    "* ### Third step: Split your interval by 2\n",
    "    x=$\\frac{(b+a)}{2}$, for our function and the interval choosen:\n",
    "    \n",
    "    x=$\\frac{(1+(-0.4))}{2} = 0.3 \\to x=0.3$ and f(0.3) are represented by the green points in the graphic\n",
    "    \n",
    "\n",
    "\n",
    "* ### Fourth step: Decreasing the interval\n",
    "    Like it was said before, the whole point of this method is to decrease the interval choosen, but we have to run some tests first.\n",
    "    Now we'll test if there is a root between (a,x) or (x,b), doind this we'll find the 'real' new interval\n",
    "    \n",
    "    If f(a)f(x)<0 -> there is a root of the given function betwwen this interval, so b=x and we have a new interval\n",
    "    \n",
    "    If f(x)f(b)<0 -> there is a root of the given function betwwen this interval, so a=x and we have a new interval\n",
    "    \n",
    "    In the example f(-0.4)f(x)>0 and f(x)f(1)<0, so the zero of the function f(x) is in the interval (x,1), so the new interval is (0.3,5)\n",
    "    \n",
    "\n",
    "\n",
    "* ### Fifth step: Testing the new interval\n",
    "    Now we have to now if the new interval is 'small' enough according to the precision choosen\n",
    "    (b-a)<ε if the condition was satisfied, any value of the given interval can be accepted \n",
    "    If *not*, go back to the step 3 again!\n",
    "    \n",
    "    As you can notice, in our example we must to comeback to the step 3 because the condition was not satisfied\n",
    "    The blue and the yellow points represents the next 2 iterations.k is number of iterations,if k$\\to \\infty$ we'll find the exact root of the given function.\n",
    "    \n",
    "   "
   ]
  },
  {
   "cell_type": "code",
   "execution_count": 8,
   "metadata": {},
   "outputs": [
    {
     "name": "stdout",
     "output_type": "stream",
     "text": [
      "Enter the start of the interval: -0.4\n",
      "Enter the end of the interval: 1\n",
      "Enter the precision that you desire: 0.01\n",
      "Your aproximated root is: 0.570703125 and the number of iterations was: 8\n"
     ]
    }
   ],
   "source": [
    "a=input('Enter the start of the interval: ')\n",
    "b=input('Enter the end of the interval: ')          #Step 1\n",
    "p=input('Enter the precision that you desire: ')\n",
    "\n",
    "def f(x):\n",
    "    return x**7+3*x**2-1\n",
    "\n",
    "S='Your aproximated root is: '+str((b+a)/2)\n",
    "\n",
    "if (b-a)<p:  #Step 2\n",
    "    print S                                        \n",
    "else:                                               \n",
    "    k=1 #number of iterations\n",
    "    M=f(a)\n",
    "    \n",
    "    while True:\n",
    "        x=(a+b)/2   #Step 3\n",
    "        \n",
    "        \n",
    "        if M*f(x)>0:\n",
    "            a=x\n",
    "        else:        #Step 4\n",
    "            b=x                                    \n",
    "        \n",
    "        if (b-a)<p:\n",
    "            x=(a+b)/2  #Step 5\n",
    "            break\n",
    "            \n",
    "        k+=1   \n",
    "            \n",
    "print'Your aproximated root is: '+str(x)+' and the number of iterations was: '+str(k)"
   ]
  },
  {
   "cell_type": "markdown",
   "metadata": {},
   "source": [
    "# False Position Method\n",
    "\n",
    "It's almost the same thing than the Bisection method, but with some improvements.\n",
    "\n",
    "In the last example $f(x)=x^7+3x^2-1$, [a,b]=[-0.4,1] and $f(1)=3> 0 >-0.52=f(-0.4). f(-0.4)$ is closer to zero than f(1), so it's more likely that the root of f(x) is closer to f(-0.4). To use that as an advantage, instead of using the arithmetic average, we'll use weighted average between a and b with the weights |f(a)| and |f(b)|.\n",
    "\n",
    "$$x = \\frac{a|f(b)|+b|f(a)|}{|f(b)|+|f(a)|} = \\frac{af(b)-bf(a)}{f(b)-f(a)}$$\n",
    "Wich implies that x is the point of intersection of a line that contains (a,f(a)) and (b,f(b)) whith the x axis, let me show you that:\n",
    "\n",
    "The equation of the line is y-yo=m(x-xo), with 'm' being angular coefficient, and using the point (b,f(b)) we have:\n",
    "\n",
    "$m=\\frac{f(b)-f(a)}{b-a} , y-f(b)=m(x-b)$ and y=0 because it's the intersection with de x axis\n",
    "\n",
    "$-f(b)=\\frac{f(b)-f(a)}{b-a}(x-b)\\to x = \\frac{-f(b)(b-a)}{f(b)-f(a)}+b = \\frac{af(b)-bf(a)}{f(b)-f(a)}$ do the math :)\n",
    "\n",
    "Now, let me show you the process:\n"
   ]
  },
  {
   "cell_type": "code",
   "execution_count": 35,
   "metadata": {},
   "outputs": [
    {
     "data": {
      "text/plain": [
       "[<matplotlib.lines.Line2D at 0x9fe0518>]"
      ]
     },
     "execution_count": 35,
     "metadata": {},
     "output_type": "execute_result"
    },
    {
     "data": {
      "image/png": "[encoded data removed]",
      "text/plain": [
       "<Figure size 432x288 with 1 Axes>"
      ]
     },
     "metadata": {
      "needs_background": "light"
     },
     "output_type": "display_data"
    }
   ],
   "source": [
    "x = np.linspace(-0.4,1)\n",
    "\n",
    "x1=[1,1]\n",
    "y1=[3,0]\n",
    "\n",
    "x2=[-0.4,-0.4]\n",
    "y2=[-0.5216384,0]\n",
    "\n",
    "x3=[-0.192626704661,-0.192626704661]\n",
    "y3=[0,-0.888694698416]\n",
    "\n",
    "x4=[0.07992774145,0.07992774145]\n",
    "y4=[-0.980834647601,0]\n",
    "\n",
    "x5=[0.30662360535,0.30662360535]\n",
    "y5=[0,-0.717691070646]\n",
    "\n",
    "plt.grid(True)\n",
    "plt.xlabel(\"x axis\")\n",
    "plt.ylabel(\"y axis\")\n",
    "plt.title(\"Example\")\n",
    "\n",
    "plt.plot(x,x**7+3*x**2-1)\n",
    "\n",
    "plt.plot(0.57156841664,0,'bo')\n",
    "\n",
    "plt.plot(1,3,'ro')\n",
    "plt.plot(-0.4,-0.5216384,'ro')\n",
    "plt.plot(1,0,'ro')\n",
    "plt.plot(-0.4,0,'ro')\n",
    "plt.plot(x1,y1,'k--', color='red')\n",
    "plt.plot(x2,y2,'k--', color='red')\n",
    "\n",
    "plt.plot(x,2.515456*x+0.484544,color='green')\n",
    "plt.plot(-0.192626704661,0,'go')\n",
    "plt.plot(-0.192626704661,-0.888694698416,'go')\n",
    "plt.plot(x3,y3,'k--', color='green')\n",
    "\n",
    "plt.plot(x,3.26061347043*x+-0.260613470433,color='yellow')\n",
    "plt.plot(0.07992774145,0,'yo')\n",
    "plt.plot(0.07992774145,-0.980834647601,'yo')\n",
    "plt.plot(x4,y4,'k--', color='yellow')\n",
    "\n",
    "plt.plot(x,4.32665435851*x+-1.32665435851,color='cyan')\n",
    "plt.plot(0.30662360535,0,'co')\n",
    "plt.plot(0.30662360535,-0.717691070646,'co')\n",
    "plt.plot(x5,y5,'k--', color='cyan')\n",
    "\n",
    "\n"
   ]
  },
  {
   "cell_type": "markdown",
   "metadata": {},
   "source": [
    "* ### First step: Choose your interval and the precision wanted\n",
    "    The zero of the given function f(x) is between the interval (-0.4,1), we know that because f(-0.4)f(1)<0!\n",
    "    \n",
    "    In this method we'll use 2 kinds of precision, one will be for we know when it's close enough of the exact root by the x axis and the another one will be for we know when the f(the aproximated root) is close enough to the f(the exact root)=0, the closer the value f(x) is to zero, the closer x is to the exact root \n",
    "    Our precision in this case will be ε1=ε2=0.01\n",
    "    \n",
    "    After decided your precisions ε1 and ε2, we'll start the process:\n",
    "\n",
    "\n",
    "\n",
    "* ### Second step: Check if your interval is already good enough for you\n",
    "    (b-a)<ε1 or |f(a)|<ε2 or |f(b)|<ε2 quite simple tests.\n",
    "    If the range of the interval is smaller than the precision 1 choosen,any value of the given interval can be accepted.\n",
    "    Now, if the distance of f(b) or f(a) to 0 is smaller than the precision 2 choosen, b or a will be consider the approximated root respectively\n",
    "    \n",
    "    As you can notice, this is not our case.\n",
    "\n",
    "\n",
    "\n",
    "* ### Third step: Split your interval \n",
    "    x=$\\frac{af(b)-bf(a)}{f(b)-f(a)}$, for our function and the interval choosen:\n",
    "    \n",
    "    x=$\\frac{((-0.4).3+1.(-0.5216384))}{3-(-0.5216384)} = -0.192626704661 \\to x=-0.192626704661$ and f(-0.192626704661) are represented by the green points in the graphic\n",
    "    \n",
    "\n",
    "\n",
    "* ### Fourth step: Decreasing the interval\n",
    "    Like it was said before, the whole point of this method is to decrease the interval choosen, but we have to run some tests first.\n",
    "    Now we'll test if there is a root between (a,x) or (x,b), doind this we'll find the 'real' new interval\n",
    "    \n",
    "    If f(a)f(x)<0 -> there is a root of the given function betwwen this interval, so b=x and we have a new interval\n",
    "    \n",
    "    If f(x)f(b)<0 -> there is a root of the given function betwwen this interval, so a=x and we have a new interval\n",
    "    \n",
    "    In the example f(-0.4)f(x)>0 and f(x)f(1)<0, so the zero of the function f(x) is in the interval (x,1), so the new interval is (-0.192626704661,5)\n",
    "    \n",
    "\n",
    "\n",
    "* ### Fifth step: Testing the new interval\n",
    "    Now we have to now if the new interval is 'small' enough according to the precision choosen\n",
    "    (b-a)<ε if the condition was satisfied, any value of the given interval can be accepted \n",
    "    If *not*, go back to the step 3 again!\n",
    "    \n",
    "    As you can notice, in our example we must to comeback to the step 3 because the condition was not satisfied\n",
    "    The blue and the yellow points represents the next 2 iterations.k is number of iterations,if k$\\to \\infty$ we'll find the exact root of the given function."
   ]
  },
  {
   "cell_type": "code",
   "execution_count": 1,
   "metadata": {},
   "outputs": [
    {
     "name": "stdout",
     "output_type": "stream",
     "text": [
      "Enter the start of the interval: -0.4\n",
      "Enter the end of the interval: 1\n",
      "Enter the precision that you desire: 0.01\n",
      "Enter the precision that you desire for the distance between f(x) and 0: 0.01\n",
      "Your aproximated root is: 0.570022306645 and the number of iterations was: 10\n"
     ]
    }
   ],
   "source": [
    "a=input('Enter the start of the interval: ')\n",
    "b=input('Enter the end of the interval: ')          #Step 1\n",
    "p1=input('Enter the precision that you desire: ')\n",
    "p2=input('Enter the precision that you desire for the distance between f(x) and 0: ')\n",
    "\n",
    "def f(x):\n",
    "    return x**7+3*x**2-1\n",
    "\n",
    "\n",
    "if (b-a)<p1:\n",
    "    x=(b+a)/2\n",
    "    print 'Your aproximated root is: '+str(x)\n",
    "    \n",
    "elif abs(f(a))<p2:\n",
    "    x=f(a)\n",
    "    print 'Your aproximated root is: '+str(x)   #Step 2\n",
    "    \n",
    "elif abs(f(b))<p2:\n",
    "    x=f(b)\n",
    "    print 'Your aproximated root is: '+str(x)\n",
    "    \n",
    "    \n",
    "else:\n",
    "    k=1\n",
    "    M=f(a)\n",
    "    \n",
    "    while True:\n",
    "        x=(a*f(b)-b*f(a))/(f(b)-f(a)) #Step 3\n",
    "        \n",
    "        if abs(f(x))<p2: #Step 5\n",
    "            break\n",
    "        \n",
    "        else:\n",
    "            if M*f(x)>0:\n",
    "                a=x\n",
    "            else:         #Step 4\n",
    "                b=x\n",
    "            \n",
    "            if (b-a)<p1:\n",
    "                x=(a+b)/2    #Step 5\n",
    "                break\n",
    "            \n",
    "            k+=1  \n",
    "                \n",
    "print'Your aproximated root is: '+str(x)+' and the number of iterations was: '+str(k)"
   ]
  },
  {
   "cell_type": "markdown",
   "metadata": {},
   "source": [
    "# Fixed Point Iteration Method\n",
    "\n",
    "This method is important because of the concepts that are introduced than in its computational efficiency.\n",
    "\n",
    "f(x) is a continuous function in the [a,b] interval, that contains a zero of f(x)$\\to$ f(x)=0. The FPIM consists in transforming this equation in a equivalent one $x=\\phi(x)$, and by an initial guess of the root, generate a sequence that will approach to the exact root $\\alpha$\n",
    "\n",
    "A function $\\phi(x)$ that satisfies this condition is called iteration function to f(x)=0\n",
    "\n",
    "For the equation $x^2-x-6=0$ we have a lot interation functions:\n",
    "\n",
    "   a)$\\phi(x)=x^2-6$\n",
    "\n",
    "   b)$\\phi(x)=\\sqrt{x+6}$\n",
    "   \n",
    "   c)$\\phi(x)=\\frac{6}{x}+1$\n",
    "   \n",
    "   d)$\\phi(x)=\\frac{6}{x-1}$\n",
    "   \n",
    "   $\\vdots$\n",
    "   \n"
   ]
  },
  {
   "cell_type": "markdown",
   "metadata": {},
   "source": [
    "The general form of the iteration function is $\\phi(x)=x+A(x)f(x)$ with the condition that in $\\alpha$, fixed point of $\\phi(x)$, we have $|A(\\alpha)|>0$\n",
    "\n",
    "It's easy to see that $f(\\alpha)=0 <=> \\phi(\\alpha)=\\alpha$\n",
    "\n",
    "Graphically, a root to the equation $x=\\phi(x)$ is the interception point of the line $y=x$ and the curve $y=\\phi(x)$\n",
    "\n",
    "From the iteration function we'll generate a sequence of the form $x_{n+1}=\\phi(x_{n})$, and depending of the function choosen, when n$\\to\\infty$ we'll find the exact root.\n"
   ]
  },
  {
   "cell_type": "code",
   "execution_count": 50,
   "metadata": {},
   "outputs": [
    {
     "data": {
      "text/plain": [
       "[<matplotlib.lines.Line2D at 0xc0f1ba8>]"
      ]
     },
     "execution_count": 50,
     "metadata": {},
     "output_type": "execute_result"
    },
    {
     "data": {
      "image/png": "[encoded data removed]",
      "text/plain": [
       "<Figure size 432x288 with 1 Axes>"
      ]
     },
     "metadata": {
      "needs_background": "light"
     },
     "output_type": "display_data"
    }
   ],
   "source": [
    "x1=[5,3.316624,3.316624,3.05231]\n",
    "y1=[3.316624,3.316624,3.05231,3.05231]\n",
    "x = np.linspace(1,5)\n",
    "\n",
    "\n",
    "plt.grid(True)\n",
    "plt.xlabel(\"x axis\")\n",
    "plt.ylabel(\"y axis\")\n",
    "plt.title(\"Option b)\")\n",
    "\n",
    "plt.plot(3,0,'bo')\n",
    "plt.plot(3,3,'bo')\n",
    "\n",
    "plt.plot(5,0,'ro')\n",
    "plt.plot(5,3.316624,'ro')\n",
    "plt.plot(3.316624,3.316624,'ro')\n",
    "\n",
    "plt.plot(3.316624,3.05231,'go')\n",
    "plt.plot(3.05231,3.05231,'go')\n",
    "plt.plot(3.316624,0,'go')\n",
    "\n",
    "plt.plot(3.05231,0,'yo')\n",
    "\n",
    "plt.plot(x1,y1,'k--', color='blue')\n",
    "\n",
    "\n",
    "\n",
    "plt.plot(x,(x+6)**0.5)\n",
    "plt.plot(x,x)"
   ]
  },
  {
   "cell_type": "code",
   "execution_count": 20,
   "metadata": {},
   "outputs": [
    {
     "data": {
      "text/plain": [
       "[<matplotlib.lines.Line2D at 0xb65ec18>]"
      ]
     },
     "execution_count": 20,
     "metadata": {},
     "output_type": "execute_result"
    },
    {
     "data": {
      "image/png": "[encoded data removed]",
      "text/plain": [
       "<Figure size 432x288 with 1 Axes>"
      ]
     },
     "metadata": {
      "needs_background": "light"
     },
     "output_type": "display_data"
    }
   ],
   "source": [
    "x1=[3.1,3.61,3.61,7.0321,7.0321,7.5]\n",
    "y1=[3.61,3.61,7.0321,7.0321,43.45043041,43.45043041]\n",
    "x = np.linspace(1.5,7.5)\n",
    "\n",
    "plt.grid(True)\n",
    "plt.xlabel(\"x axis\")\n",
    "plt.ylabel(\"y axis\")\n",
    "plt.title(\"Option a)\")\n",
    "\n",
    "plt.plot(3,0,'bo')\n",
    "plt.plot(3,3,'bo')\n",
    "\n",
    "plt.plot(3.1,0,'ro')\n",
    "plt.plot(3.1,3.61,'ro')\n",
    "plt.plot(3.61,3.61,'ro')\n",
    "\n",
    "plt.plot(3.61,7.0321,'go')\n",
    "plt.plot(3.61,0,'go')\n",
    "plt.plot(7.0321,7.0321,'go')\n",
    "\n",
    "plt.plot(7.0321,0,'yo')\n",
    "plt.plot(7.0321,43.45043041,'yo')\n",
    "\n",
    "plt.plot(x1,y1,'k--', color='blue')\n",
    "\n",
    "plt.plot(x,x**2-6)\n",
    "plt.plot(x,x)"
   ]
  },
  {
   "cell_type": "markdown",
   "metadata": {},
   "source": [
    "After you choose the proper iteration function (we'll see how to do it in the study of the convergence of this method), you can follow the steps.\n",
    "\n",
    "\n",
    "* ### First step: Make a guess and choose the precision wanted\n",
    "    For this method you'll have to 'make a guess' about the root desired, to be the starting point of the sequence that will approach the exact root.In the first example x0=5 and in the second x0=3.1\n",
    "    \n",
    "    In this method we'll use 2 kinds of precision, one will be for we know when 2 terms generated by the iteration function are close enough to each other and the another one will be for we know when the f(the aproximated root) is close enough to the f(the exact root)=0, the closer the value f(x) is to zero, the closer x is to the exact root .\n",
    "    Our precision in this case will be ε1=ε2=0.01\n",
    "    \n",
    "    After decided your precisions ε1 and ε2, we'll start the process:\n",
    "    \n",
    "* ### Second step: Check if your estimate for the root is already good enough\n",
    "    |f(a)|<ε2 or |f(b)|<ε2 quite simple tests.\n",
    "    \n",
    "    If the distance of f(b) or f(a) to 0 is smaller than the precision 2 choosen, b or a will be consider the approximated root respectively\n",
    "    \n",
    "    As you can notice, this is not our case.\n",
    "    \n",
    "* ### Third step: Using the iteration function\n",
    "    The sequence generated by the iteration function works for us 'walk' on the function itself until we reach the interception point to the line y=x, that will give us the root for the function chosen. But how?\n",
    "    \n",
    "    Obs: It's very important to follow the graphic of the first example('option b)')!!!\n",
    "    \n",
    "    Remember the sequence,  $x_{n+1}=\\phi(x_{n})$\n",
    "    \n",
    "    In the example x0=5 and $\\phi(5)=3.316624$, after that we'll find a point in the line y=x that will have the same value of $\\phi(5)$.If you check it out, the x coordinate of the point ($\\phi(5)$,$\\phi(5)$)$\\to$(in the line y=x) is closer to the fix point in the iteration function than the x coordinate of the initial point choosen (5,$\\phi(5)$).\n",
    "    You just realize that the output of the iteration function are values of x that are closer to the exact root than the values of x that were the input of the same function, generating a sequence :)\n",
    "    \n",
    "    The $x_{0}$ is represented in both examples by the red color, and the another iterations are represented by the colors green and yellow respectively\n",
    "    \n",
    "* ### Fourth step: Testing the new aproximated root\n",
    "    The more iterations made, the smaller are the gaps between two aproximated roots generated by the sequence.To take advantage of that, we'll use that, if two 'zeros' are closer each other than a certain chosen precision, the last term of the sequence will be our final aproximation.\n",
    "    \n",
    "    The test for that is ($x_{n+1}-x_{n})<ε1$ and the test used in the Step 2.\n",
    "    \n",
    "    \n",
    "    \n",
    "    \n",
    "    "
   ]
  },
  {
   "cell_type": "code",
   "execution_count": 24,
   "metadata": {},
   "outputs": [
    {
     "name": "stdout",
     "output_type": "stream",
     "text": [
      "Enter the value of x0: 5\n",
      "Enter the precision that you desire: 0.01\n",
      "Enter the precision that you desire for the distance between f(x) and 0: 0.01\n",
      "Your aproximated root is: 3.00145072863 and the number of iterations was: 4\n"
     ]
    }
   ],
   "source": [
    "x0=input('Enter the value of x0: ')\n",
    "p1=input('Enter the precision that you desire: ')  #Step 1\n",
    "p2=input('Enter the precision that you desire for the distance between f(x) and 0: ')\n",
    "\n",
    "\n",
    "def f(x):\n",
    "    return x**2-x-6\n",
    "\n",
    "def phi(x):\n",
    "    return (x+6)**0.5\n",
    "\n",
    "if abs(f(x0))<p1:\n",
    "    xap=x0        #Step 2\n",
    "    print 'Your aproximated root is: '+str(xap)  \n",
    "k=1\n",
    "\n",
    "while True:\n",
    "\n",
    "    x1=phi(x0)  #Step 3\n",
    "    \n",
    "    \n",
    "    if abs(f(x1))<p1 or abs(x1-x0)<p2: #Step 4\n",
    "        xap=x1\n",
    "        break\n",
    "    \n",
    "    x0=x1\n",
    "    k=k+1\n",
    "print'Your aproximated root is: '+str(xap)+' and the number of iterations was: '+str(k) "
   ]
  },
  {
   "cell_type": "markdown",
   "metadata": {},
   "source": [
    "There are infinite iteration functions $\\phi(x)$ for the equation $f(x)=0$, and as you can realize, the second example don't converges to the exact root, but why?"
   ]
  },
  {
   "cell_type": "markdown",
   "metadata": {},
   "source": [
    "## Convergence of the MPIF\n",
    "\n",
    "$\\alpha$ is a root of the equation f(x)=0, in the interval *I* centered in itself. $\\phi(x)$ is an iteration function for the equation f(x)=0\n",
    "\n",
    "If,\n",
    "\n",
    "* $\\phi(x)$ and $\\phi'(x)$ are continuous in *I*\n",
    "\n",
    "* $|\\phi'(x)|<1$ for any x $\\in$ *I*\n",
    "\n",
    "* $x_{0}\\in$ *I*\n",
    "\n",
    "The sequence generated by $x_{n+1}=\\phi(x_{n})$ will converge to the value of $\\alpha$"
   ]
  },
  {
   "cell_type": "markdown",
   "metadata": {},
   "source": [
    "# Newton-Raphson Method\n",
    "\n",
    "In the MPIF we saw that one of the conditions of convergence is $|\\phi'(x)|<1$ for any x $\\in$ *I*, and the convergence of the method will be faster the smaller is $|\\phi'(\\alpha)|$.\n",
    "\n",
    "The Newthon-Raphson method to improve the efficiency of MPIF uses $\\phi'(\\alpha)=0$, let's see the consequences of it:\n",
    "\n",
    "The general form of the iteration function is $\\phi(x)=x+A(x)f(x)$, so $\\phi'(x)=1+A'(x)f(x)+A(x)f'(x)$\n",
    "\n",
    "$$\\phi'(\\alpha)=1+A'(\\alpha)f(\\alpha)+A(\\alpha)f'(\\alpha) ,  f(\\alpha)=0,\\phi'(\\alpha)=0$$\n",
    "\n",
    "$$0=1+A(\\alpha)f'(\\alpha) \\to  A(\\alpha)=\\frac{-1}{f'(\\alpha)}  \\to  A(x)=\\frac{-1}{f'(x)}$$\n",
    "\n",
    "$\\phi(x)=x-\\frac{f(x)}{f'(x)}$, after $x_{0}$ was chosen the sequence wil be generated by $x_{k+1}=x_{k}-\\frac{f(x)}{f'(x)}$\n",
    "\n"
   ]
  },
  {
   "cell_type": "code",
   "execution_count": 29,
   "metadata": {},
   "outputs": [
    {
     "data": {
      "text/plain": [
       "[-0.4, 1, -4, 4]"
      ]
     },
     "execution_count": 29,
     "metadata": {},
     "output_type": "execute_result"
    },
    {
     "data": {
      "image/png": "[encoded data removed]",
      "text/plain": [
       "<Figure size 432x288 with 1 Axes>"
      ]
     },
     "metadata": {
      "needs_background": "light"
     },
     "output_type": "display_data"
    }
   ],
   "source": [
    "x = np.linspace(-0.4,1)\n",
    "\n",
    "x1=[0.2,0.2]\n",
    "y1=[0,-0.8799872]\n",
    "\n",
    "x2=[0.933048995042,0.933048995042]\n",
    "y2=[2.22738740055,0]\n",
    "\n",
    "x3=[0.715042029852,0.715042029852]\n",
    "y3=[0,0.629425182497]\n",
    "\n",
    "plt.grid(True)\n",
    "plt.xlabel(\"x axis\")\n",
    "plt.ylabel(\"y axis\")\n",
    "plt.title(\"Example\")\n",
    "\n",
    "plt.plot(x,x**7+3*x**2-1)\n",
    "plt.plot(x,1.200448*x-1.1200768,color='red')\n",
    "\n",
    "plt.plot(0.2,0,'ro')\n",
    "plt.plot(0.2,-0.8799872,'ro')\n",
    "plt.plot(x1,y1,'k--', color='red')\n",
    "\n",
    "plt.plot(x,10.2170469582*x-7.30561799609, color='green')\n",
    "plt.plot(0.933048995042,0,'go')\n",
    "plt.plot(0.933048995042,2.22738740055,'go')\n",
    "plt.plot(x2,y2,'k--', color='green')\n",
    "\n",
    "plt.plot(x,5.22584625051*x-3.10727452816,color='yellow')\n",
    "plt.plot(0.715042029852,0,'yo')\n",
    "plt.plot(0.715042029852,0.629425182497,'yo')\n",
    "plt.plot(x3,y3,'k--', color='yellow')\n",
    "\n",
    "plt.plot(0.57156841664,0,'bo')\n",
    "\n",
    "plt.axis([-0.4,1,-4, 4])"
   ]
  },
  {
   "cell_type": "markdown",
   "metadata": {},
   "source": [
    "* ### First step: Make a guess and choose the precision wanted\n",
    "    For this method you'll have to 'make a guess' about the root desired, to be the starting point of the sequence that will approach the exact root.In our example $x_{0}=0.2$\n",
    "    \n",
    "    In this method we'll use 2 kinds of precision, one will be for we know when 2 terms generated by the iteration function are close enough to each other and the another one will be for we know when the f(the aproximated root) is close enough to the f(the exact root)=0, the closer the value f(x) is to zero, the closer x is to the exact root .\n",
    "    Our precision in this case will be ε1=ε2=0.01\n",
    "    \n",
    "    After decided your precisions ε1 and ε2, we'll start the process:\n",
    "    \n",
    "* ### Second step: Check if your estimate for the root is already good enough\n",
    "    |f(a)|<ε2 or |f(b)|<ε2 quite simple tests.\n",
    "    \n",
    "    If the distance of f(b) or f(a) to 0 is smaller than the precision 2 choosen, b or a will be consider the approximated root respectively\n",
    "    \n",
    "    As you can notice, this is not our case.\n",
    "    \n",
    "* ### Third step: Using the iteration function\n",
    "    The sequence generated by the iteration function works for us 'walk' on the function itself until we reach the interception point to the line y=x, that will give us the root for the function chosen. But how?\n",
    "    \n",
    "     Obs:It's very important that you have read and understood about the Fixed Point Iteration Method.\n",
    "     \n",
    "     The output of the iteration function are values of x that are closer to the exact root than the values of x that were the input of the same function, generating a sequence :)\n",
    "     \n",
    "     Remember the sequence generated by this method$\\to x_{k+1}=x_{k}-\\frac{f(x)}{f'(x)}$ \n",
    "     \n",
    "     The $x_{0}$ is represented in the example by the red color, and the another iterations are represented by the colors green and yellow respectively.\n",
    "     \n",
    "* ### Fourth step: Testing the new aproximated root\n",
    "    The more iterations made, the smaller are the gaps between two aproximated roots generated by the sequence.To take advantage of that, we'll use that, if two 'zeros' are closer each other than a certain chosen precision, the last term of the sequence will be our final aproximation.\n",
    "    \n",
    "    The test for that is ($x_{n+1}-x_{n})<ε1$ and the test used in the Step 2.\n",
    "     "
   ]
  },
  {
   "cell_type": "code",
   "execution_count": 26,
   "metadata": {},
   "outputs": [
    {
     "name": "stdout",
     "output_type": "stream",
     "text": [
      "Enter the value of x0: 0.2\n",
      "Enter the precision that you desire: 0.01\n",
      "Enter the precision that you desire for the distance between f(x) and 0: 0.01\n",
      "Your aproximated root is: 0.572179032733 and the number of iterations was: 4\n"
     ]
    }
   ],
   "source": [
    "x0=input('Enter the value of x0: ')\n",
    "p1=input('Enter the precision that you desire: ')  #Step 1\n",
    "p2=input('Enter the precision that you desire for the distance between f(x) and 0: ')\n",
    "\n",
    "\n",
    "def f(x):\n",
    "    return x**7+3*x**2-1\n",
    "def fd(x):\n",
    "    return 7*x**6+6*x\n",
    "\n",
    "if abs(f(x0))<p1:\n",
    "    xap=x0            #Step 2\n",
    "    print'Your aproximated root is: '+str(xap)\n",
    "k=1\n",
    "while True:\n",
    "    \n",
    "    x1=x0-f(x0)/fd(x0) #Step 3\n",
    "        \n",
    "    if abs(f(x1))<p1 or abs(x1-x0)<p2:\n",
    "        xap=x1        #Step 4\n",
    "        break   \n",
    "    \n",
    "    x0=x1\n",
    "    k+=1\n",
    "print'Your aproximated root is: '+str(xap)+' and the number of iterations was: '+str(k)     \n"
   ]
  },
  {
   "cell_type": "markdown",
   "metadata": {},
   "source": [
    "# Secant Method\n",
    "\n"
   ]
  },
  {
   "cell_type": "code",
   "execution_count": null,
   "metadata": {},
   "outputs": [],
   "source": []
  },
  {
   "cell_type": "code",
   "execution_count": null,
   "metadata": {},
   "outputs": [],
   "source": [
    "print 'Voce precisa digitar duas aproximacoes da sua raiz!'\n",
    "x0=input(\"Digite a primeira aproximacao da raiz: \")\n",
    "x1=input(\"Digite a segunda aproximacao da raiz: \")\n",
    "p1=input('Digite a precisao 1: ')\n",
    "p2=input('Digite a precisao 2: ')\n",
    "\n",
    "\n",
    "def f(x):\n",
    "    return x**7+3*x**2-1\n",
    "\n",
    "if abs(f(x0))<p1:\n",
    "    xap=x0\n",
    "    print 'Sua raiz aproximada é: '+str(xap)\n",
    "\n",
    "elif abs(f(x1))<p1 or abs(x1-x0)<p2:\n",
    "    xap=x1\n",
    "    \n",
    "    \n",
    "while True:\n",
    "    k=1\n",
    "    x2=x1-(f(x1)*(x1-x0))/(f(x1)-f(x0))\n",
    "    \n",
    "    if abs(f(x1))<p1 or abs(x1-x0)<p2:\n",
    "        xap=x1\n",
    "        break\n",
    "    x0=x1\n",
    "    x1=x2\n",
    "    k+=1\n",
    "    \n",
    "print 'Sua raiz aproximada é: '+str(xap)+ 'e o numero de tentativas foi de: '+str(k)    "
   ]
  }
 ],
 "metadata": {
  "kernelspec": {
   "display_name": "Python 2",
   "language": "python",
   "name": "python2"
  },
  "language_info": {
   "codemirror_mode": {
    "name": "ipython",
    "version": 2
   },
   "file_extension": ".py",
   "mimetype": "text/x-python",
   "name": "python",
   "nbconvert_exporter": "python",
   "pygments_lexer": "ipython2",
   "version": "2.7.15"
  }
 },
 "nbformat": 4,
 "nbformat_minor": 2
}
